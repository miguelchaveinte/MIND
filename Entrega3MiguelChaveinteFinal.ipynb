{
 "cells": [
  {
   "cell_type": "code",
   "execution_count": 34,
   "id": "5f53a42a-1d23-4bf0-8734-42cd43facede",
   "metadata": {
    "id": "5f53a42a-1d23-4bf0-8734-42cd43facede"
   },
   "outputs": [],
   "source": [
    "#Entrega 3 Miguel Chaveinte"
   ]
  },
  {
   "cell_type": "code",
   "execution_count": 35,
   "id": "89720c93-9060-4bfa-9b4d-ea397e1c2958",
   "metadata": {
    "id": "89720c93-9060-4bfa-9b4d-ea397e1c2958"
   },
   "outputs": [],
   "source": [
    "import pandas as pd\n",
    "import numpy as np\n",
    "from sklearn.preprocessing import StandardScaler\n",
    "from sklearn.cluster import AgglomerativeClustering\n",
    "from sklearn.metrics import accuracy_score\n",
    "from scipy.stats import mode"
   ]
  },
  {
   "cell_type": "code",
   "execution_count": 36,
   "id": "380f7090-dba1-4311-ac9c-5622b9283448",
   "metadata": {
    "id": "380f7090-dba1-4311-ac9c-5622b9283448"
   },
   "outputs": [],
   "source": [
    "#Leemos el dataset\n",
    "data = pd.read_csv(\"C:/Users/migue/OneDrive/Escritorio/MINERIA/python-teodoro/practica1/seeds_dataset.txt\", sep=\"\\t\")"
   ]
  },
  {
   "cell_type": "code",
   "execution_count": 37,
   "id": "b91dbd7f-2047-40ec-938c-23462611b27e",
   "metadata": {
    "colab": {
     "base_uri": "https://localhost:8080/",
     "height": 206
    },
    "id": "b91dbd7f-2047-40ec-938c-23462611b27e",
    "outputId": "cf492277-f729-4033-df2f-efdd9ea4af94"
   },
   "outputs": [
    {
     "data": {
      "text/html": [
       "<div>\n",
       "<style scoped>\n",
       "    .dataframe tbody tr th:only-of-type {\n",
       "        vertical-align: middle;\n",
       "    }\n",
       "\n",
       "    .dataframe tbody tr th {\n",
       "        vertical-align: top;\n",
       "    }\n",
       "\n",
       "    .dataframe thead th {\n",
       "        text-align: right;\n",
       "    }\n",
       "</style>\n",
       "<table border=\"1\" class=\"dataframe\">\n",
       "  <thead>\n",
       "    <tr style=\"text-align: right;\">\n",
       "      <th></th>\n",
       "      <th>A</th>\n",
       "      <th>P</th>\n",
       "      <th>C</th>\n",
       "      <th>Len</th>\n",
       "      <th>Wid</th>\n",
       "      <th>Asy</th>\n",
       "      <th>Len2</th>\n",
       "      <th>Wheat</th>\n",
       "    </tr>\n",
       "  </thead>\n",
       "  <tbody>\n",
       "    <tr>\n",
       "      <th>0</th>\n",
       "      <td>15.26</td>\n",
       "      <td>14.84</td>\n",
       "      <td>0.8710</td>\n",
       "      <td>5.763</td>\n",
       "      <td>3.312</td>\n",
       "      <td>2.221</td>\n",
       "      <td>5.220</td>\n",
       "      <td>1</td>\n",
       "    </tr>\n",
       "    <tr>\n",
       "      <th>1</th>\n",
       "      <td>14.88</td>\n",
       "      <td>14.57</td>\n",
       "      <td>0.8811</td>\n",
       "      <td>5.554</td>\n",
       "      <td>3.333</td>\n",
       "      <td>1.018</td>\n",
       "      <td>4.956</td>\n",
       "      <td>1</td>\n",
       "    </tr>\n",
       "    <tr>\n",
       "      <th>2</th>\n",
       "      <td>14.29</td>\n",
       "      <td>14.09</td>\n",
       "      <td>0.9050</td>\n",
       "      <td>5.291</td>\n",
       "      <td>3.337</td>\n",
       "      <td>2.699</td>\n",
       "      <td>4.825</td>\n",
       "      <td>1</td>\n",
       "    </tr>\n",
       "    <tr>\n",
       "      <th>3</th>\n",
       "      <td>13.84</td>\n",
       "      <td>13.94</td>\n",
       "      <td>0.8955</td>\n",
       "      <td>5.324</td>\n",
       "      <td>3.379</td>\n",
       "      <td>2.259</td>\n",
       "      <td>4.805</td>\n",
       "      <td>1</td>\n",
       "    </tr>\n",
       "    <tr>\n",
       "      <th>4</th>\n",
       "      <td>16.14</td>\n",
       "      <td>14.99</td>\n",
       "      <td>0.9034</td>\n",
       "      <td>5.658</td>\n",
       "      <td>3.562</td>\n",
       "      <td>1.355</td>\n",
       "      <td>5.175</td>\n",
       "      <td>1</td>\n",
       "    </tr>\n",
       "  </tbody>\n",
       "</table>\n",
       "</div>"
      ],
      "text/plain": [
       "       A      P       C    Len    Wid    Asy   Len2  Wheat\n",
       "0  15.26  14.84  0.8710  5.763  3.312  2.221  5.220      1\n",
       "1  14.88  14.57  0.8811  5.554  3.333  1.018  4.956      1\n",
       "2  14.29  14.09  0.9050  5.291  3.337  2.699  4.825      1\n",
       "3  13.84  13.94  0.8955  5.324  3.379  2.259  4.805      1\n",
       "4  16.14  14.99  0.9034  5.658  3.562  1.355  5.175      1"
      ]
     },
     "execution_count": 37,
     "metadata": {},
     "output_type": "execute_result"
    }
   ],
   "source": [
    "data.head()"
   ]
  },
  {
   "cell_type": "code",
   "execution_count": 38,
   "id": "7a173d64-f0c4-4493-a24a-b826e30e0709",
   "metadata": {
    "colab": {
     "base_uri": "https://localhost:8080/"
    },
    "id": "7a173d64-f0c4-4493-a24a-b826e30e0709",
    "outputId": "50906f77-db4f-4b59-e00b-44ae580f043e"
   },
   "outputs": [
    {
     "name": "stdout",
     "output_type": "stream",
     "text": [
      "<class 'pandas.core.frame.DataFrame'>\n",
      "RangeIndex: 210 entries, 0 to 209\n",
      "Data columns (total 8 columns):\n",
      " #   Column  Non-Null Count  Dtype  \n",
      "---  ------  --------------  -----  \n",
      " 0   A       210 non-null    float64\n",
      " 1   P       210 non-null    float64\n",
      " 2   C       210 non-null    float64\n",
      " 3   Len     210 non-null    float64\n",
      " 4   Wid     210 non-null    float64\n",
      " 5   Asy     210 non-null    float64\n",
      " 6   Len2    210 non-null    float64\n",
      " 7   Wheat   210 non-null    int64  \n",
      "dtypes: float64(7), int64(1)\n",
      "memory usage: 13.2 KB\n"
     ]
    }
   ],
   "source": [
    "data.info()"
   ]
  },
  {
   "cell_type": "code",
   "execution_count": 39,
   "id": "3f6508a1-39d2-4ed1-93c0-5597b450d548",
   "metadata": {
    "colab": {
     "base_uri": "https://localhost:8080/"
    },
    "id": "3f6508a1-39d2-4ed1-93c0-5597b450d548",
    "outputId": "2cc102fc-f153-4ee9-92f4-c8ff87b9037b"
   },
   "outputs": [
    {
     "data": {
      "text/plain": [
       "Index(['A', 'P', 'C', 'Len', 'Wid', 'Asy', 'Len2', 'Wheat'], dtype='object')"
      ]
     },
     "execution_count": 39,
     "metadata": {},
     "output_type": "execute_result"
    }
   ],
   "source": [
    "data.columns"
   ]
  },
  {
   "cell_type": "code",
   "execution_count": 40,
   "id": "318e57d1-a99d-4364-919b-04a4f36218d5",
   "metadata": {
    "colab": {
     "base_uri": "https://localhost:8080/"
    },
    "id": "318e57d1-a99d-4364-919b-04a4f36218d5",
    "outputId": "810f6e55-3dc0-4c4c-d578-bde475e59a02"
   },
   "outputs": [
    {
     "name": "stdout",
     "output_type": "stream",
     "text": [
      "[1 2 3]\n",
      "-----\n",
      "[[ 1.42097769e-01  2.15462437e-01  6.06017918e-05 ...  1.41701823e-01\n",
      "  -9.86151745e-01 -3.83577423e-01]\n",
      " [ 1.11880257e-02  8.22375713e-03  4.28515270e-01 ...  1.97432229e-01\n",
      "  -1.78816620e+00 -9.22013487e-01]\n",
      " [-1.92066576e-01 -3.60200562e-01  1.44238325e+00 ...  2.08047544e-01\n",
      "  -6.67479334e-01 -1.18919199e+00]\n",
      " ...\n",
      " [-5.67570840e-01 -6.90247348e-01  7.33948301e-01 ... -7.06044846e-02\n",
      "   3.07658816e+00 -7.18060432e-01]\n",
      " [-1.03608992e+00 -1.03564515e+00 -8.01701104e-01 ... -1.12152071e+00\n",
      "  -6.81351965e-02 -7.42534799e-01]\n",
      " [-8.77620233e-01 -9.35863561e-01 -1.10234659e-01 ... -7.55292327e-01\n",
      "   1.29122264e+00 -7.03783718e-01]]\n"
     ]
    }
   ],
   "source": [
    "#Separamos variable objetivo y estandarizamos datos\n",
    "y=data.Wheat\n",
    "y=np.array(y)\n",
    "X = StandardScaler().fit_transform(data.iloc[:,:-1])\n",
    "print(np.unique(y))\n",
    "print('-----')\n",
    "print(X)"
   ]
  },
  {
   "cell_type": "code",
   "execution_count": 41,
   "id": "63244925-366a-46ba-8dfe-80c9bb0e2c60",
   "metadata": {
    "colab": {
     "base_uri": "https://localhost:8080/",
     "height": 364
    },
    "id": "63244925-366a-46ba-8dfe-80c9bb0e2c60",
    "outputId": "9c84dd1a-e77d-4957-91f5-f1c2649ca3dc"
   },
   "outputs": [
    {
     "data": {
      "text/html": [
       "<div>\n",
       "<style scoped>\n",
       "    .dataframe tbody tr th:only-of-type {\n",
       "        vertical-align: middle;\n",
       "    }\n",
       "\n",
       "    .dataframe tbody tr th {\n",
       "        vertical-align: top;\n",
       "    }\n",
       "\n",
       "    .dataframe thead th {\n",
       "        text-align: right;\n",
       "    }\n",
       "</style>\n",
       "<table border=\"1\" class=\"dataframe\">\n",
       "  <thead>\n",
       "    <tr style=\"text-align: right;\">\n",
       "      <th></th>\n",
       "      <th>0</th>\n",
       "      <th>1</th>\n",
       "      <th>2</th>\n",
       "      <th>3</th>\n",
       "      <th>4</th>\n",
       "      <th>5</th>\n",
       "      <th>6</th>\n",
       "    </tr>\n",
       "  </thead>\n",
       "  <tbody>\n",
       "    <tr>\n",
       "      <th>count</th>\n",
       "      <td>2.100000e+02</td>\n",
       "      <td>2.100000e+02</td>\n",
       "      <td>2.100000e+02</td>\n",
       "      <td>2.100000e+02</td>\n",
       "      <td>2.100000e+02</td>\n",
       "      <td>2.100000e+02</td>\n",
       "      <td>2.100000e+02</td>\n",
       "    </tr>\n",
       "    <tr>\n",
       "      <th>mean</th>\n",
       "      <td>-5.392512e-17</td>\n",
       "      <td>9.146123e-17</td>\n",
       "      <td>1.322091e-15</td>\n",
       "      <td>-2.182910e-15</td>\n",
       "      <td>-2.030122e-16</td>\n",
       "      <td>-3.679596e-16</td>\n",
       "      <td>-1.337554e-16</td>\n",
       "    </tr>\n",
       "    <tr>\n",
       "      <th>std</th>\n",
       "      <td>1.002389e+00</td>\n",
       "      <td>1.002389e+00</td>\n",
       "      <td>1.002389e+00</td>\n",
       "      <td>1.002389e+00</td>\n",
       "      <td>1.002389e+00</td>\n",
       "      <td>1.002389e+00</td>\n",
       "      <td>1.002389e+00</td>\n",
       "    </tr>\n",
       "    <tr>\n",
       "      <th>min</th>\n",
       "      <td>-1.466714e+00</td>\n",
       "      <td>-1.649686e+00</td>\n",
       "      <td>-2.668236e+00</td>\n",
       "      <td>-1.650501e+00</td>\n",
       "      <td>-1.668209e+00</td>\n",
       "      <td>-1.956769e+00</td>\n",
       "      <td>-1.813288e+00</td>\n",
       "    </tr>\n",
       "    <tr>\n",
       "      <th>25%</th>\n",
       "      <td>-8.879552e-01</td>\n",
       "      <td>-8.514330e-01</td>\n",
       "      <td>-5.980791e-01</td>\n",
       "      <td>-8.286816e-01</td>\n",
       "      <td>-8.349072e-01</td>\n",
       "      <td>-7.591477e-01</td>\n",
       "      <td>-7.404953e-01</td>\n",
       "    </tr>\n",
       "    <tr>\n",
       "      <th>50%</th>\n",
       "      <td>-1.696741e-01</td>\n",
       "      <td>-1.836639e-01</td>\n",
       "      <td>1.039927e-01</td>\n",
       "      <td>-2.376280e-01</td>\n",
       "      <td>-5.733534e-02</td>\n",
       "      <td>-6.746852e-02</td>\n",
       "      <td>-3.774588e-01</td>\n",
       "    </tr>\n",
       "    <tr>\n",
       "      <th>75%</th>\n",
       "      <td>8.465989e-01</td>\n",
       "      <td>8.870693e-01</td>\n",
       "      <td>7.116771e-01</td>\n",
       "      <td>7.945947e-01</td>\n",
       "      <td>8.044956e-01</td>\n",
       "      <td>7.123789e-01</td>\n",
       "      <td>9.563941e-01</td>\n",
       "    </tr>\n",
       "    <tr>\n",
       "      <th>max</th>\n",
       "      <td>2.181534e+00</td>\n",
       "      <td>2.065260e+00</td>\n",
       "      <td>2.006586e+00</td>\n",
       "      <td>2.367533e+00</td>\n",
       "      <td>2.055112e+00</td>\n",
       "      <td>3.170590e+00</td>\n",
       "      <td>2.328998e+00</td>\n",
       "    </tr>\n",
       "  </tbody>\n",
       "</table>\n",
       "</div>"
      ],
      "text/plain": [
       "                  0             1             2             3             4  \\\n",
       "count  2.100000e+02  2.100000e+02  2.100000e+02  2.100000e+02  2.100000e+02   \n",
       "mean  -5.392512e-17  9.146123e-17  1.322091e-15 -2.182910e-15 -2.030122e-16   \n",
       "std    1.002389e+00  1.002389e+00  1.002389e+00  1.002389e+00  1.002389e+00   \n",
       "min   -1.466714e+00 -1.649686e+00 -2.668236e+00 -1.650501e+00 -1.668209e+00   \n",
       "25%   -8.879552e-01 -8.514330e-01 -5.980791e-01 -8.286816e-01 -8.349072e-01   \n",
       "50%   -1.696741e-01 -1.836639e-01  1.039927e-01 -2.376280e-01 -5.733534e-02   \n",
       "75%    8.465989e-01  8.870693e-01  7.116771e-01  7.945947e-01  8.044956e-01   \n",
       "max    2.181534e+00  2.065260e+00  2.006586e+00  2.367533e+00  2.055112e+00   \n",
       "\n",
       "                  5             6  \n",
       "count  2.100000e+02  2.100000e+02  \n",
       "mean  -3.679596e-16 -1.337554e-16  \n",
       "std    1.002389e+00  1.002389e+00  \n",
       "min   -1.956769e+00 -1.813288e+00  \n",
       "25%   -7.591477e-01 -7.404953e-01  \n",
       "50%   -6.746852e-02 -3.774588e-01  \n",
       "75%    7.123789e-01  9.563941e-01  \n",
       "max    3.170590e+00  2.328998e+00  "
      ]
     },
     "execution_count": 41,
     "metadata": {},
     "output_type": "execute_result"
    }
   ],
   "source": [
    "df_describe = pd.DataFrame(X)\n",
    "df_describe.describe()"
   ]
  },
  {
   "cell_type": "code",
   "execution_count": 42,
   "id": "95e9a842-ad0f-46f2-b3f3-f5539faacc90",
   "metadata": {
    "colab": {
     "base_uri": "https://localhost:8080/"
    },
    "id": "95e9a842-ad0f-46f2-b3f3-f5539faacc90",
    "outputId": "e3ed2c03-f2d8-4f4c-94a1-acba8750d7c3"
   },
   "outputs": [
    {
     "data": {
      "text/plain": [
       "((210, 7), (210,))"
      ]
     },
     "execution_count": 42,
     "metadata": {},
     "output_type": "execute_result"
    }
   ],
   "source": [
    "X.shape,y.shape"
   ]
  },
  {
   "cell_type": "markdown",
   "id": "a0794411-d648-4e0b-a909-dd639c8272dd",
   "metadata": {
    "id": "a0794411-d648-4e0b-a909-dd639c8272dd"
   },
   "source": [
    "### **KMeans --> AgglomerativeClustering con 12 baricentros**"
   ]
  },
  {
   "cell_type": "code",
   "execution_count": 43,
   "id": "b1bfc7b7-7620-4d10-8bb8-37bcb28d51ee",
   "metadata": {
    "colab": {
     "base_uri": "https://localhost:8080/",
     "height": 300
    },
    "id": "b1bfc7b7-7620-4d10-8bb8-37bcb28d51ee",
    "outputId": "fea7a1ec-50ba-4b51-cdb9-beb2411a3742"
   },
   "outputs": [
    {
     "data": {
      "text/html": [
       "<div>\n",
       "<style scoped>\n",
       "    .dataframe tbody tr th:only-of-type {\n",
       "        vertical-align: middle;\n",
       "    }\n",
       "\n",
       "    .dataframe tbody tr th {\n",
       "        vertical-align: top;\n",
       "    }\n",
       "\n",
       "    .dataframe thead th {\n",
       "        text-align: right;\n",
       "    }\n",
       "</style>\n",
       "<table border=\"1\" class=\"dataframe\">\n",
       "  <thead>\n",
       "    <tr style=\"text-align: right;\">\n",
       "      <th></th>\n",
       "      <th>ward</th>\n",
       "    </tr>\n",
       "    <tr>\n",
       "      <th>n_clusters</th>\n",
       "      <th></th>\n",
       "    </tr>\n",
       "  </thead>\n",
       "  <tbody>\n",
       "    <tr>\n",
       "      <th>6</th>\n",
       "      <td>0.0</td>\n",
       "    </tr>\n",
       "    <tr>\n",
       "      <th>7</th>\n",
       "      <td>0.0</td>\n",
       "    </tr>\n",
       "    <tr>\n",
       "      <th>8</th>\n",
       "      <td>0.0</td>\n",
       "    </tr>\n",
       "    <tr>\n",
       "      <th>9</th>\n",
       "      <td>0.0</td>\n",
       "    </tr>\n",
       "    <tr>\n",
       "      <th>10</th>\n",
       "      <td>0.0</td>\n",
       "    </tr>\n",
       "    <tr>\n",
       "      <th>11</th>\n",
       "      <td>0.0</td>\n",
       "    </tr>\n",
       "    <tr>\n",
       "      <th>12</th>\n",
       "      <td>0.0</td>\n",
       "    </tr>\n",
       "  </tbody>\n",
       "</table>\n",
       "</div>"
      ],
      "text/plain": [
       "            ward\n",
       "n_clusters      \n",
       "6            0.0\n",
       "7            0.0\n",
       "8            0.0\n",
       "9            0.0\n",
       "10           0.0\n",
       "11           0.0\n",
       "12           0.0"
      ]
     },
     "execution_count": 43,
     "metadata": {},
     "output_type": "execute_result"
    }
   ],
   "source": [
    "# En clase hemos expuesto que el número minimo de clusters es 6\n",
    "min_clusters = 6\n",
    "max_clusters = 12\n",
    "\n",
    "# Creamos el rango de clusters\n",
    "rango = list(range(min_clusters,max_clusters+1))\n",
    "\n",
    "# Indices de la lista --> i for i in range(6,13)\n",
    "lista = [6,7,8,9,10,11,12]\n",
    "\n",
    "# Creamos el DataFrame, con el tamaño adecuado\n",
    "tabla = pd.DataFrame(columns=[\"ward\"], index=rango, data=np.zeros((len(lista),1)))\n",
    "\n",
    "# n_clusters es el número de clusters, que es el indice de la tabla\n",
    "tabla.index.name = \"n_clusters\"\n",
    "tabla"
   ]
  },
  {
   "cell_type": "code",
   "execution_count": 44,
   "id": "acfc9bd6-0ae8-4edd-ac8f-28055da18ba1",
   "metadata": {
    "colab": {
     "base_uri": "https://localhost:8080/",
     "height": 300
    },
    "id": "acfc9bd6-0ae8-4edd-ac8f-28055da18ba1",
    "outputId": "75df11e1-31ee-49ef-a041-04f3555db16c"
   },
   "outputs": [
    {
     "data": {
      "text/html": [
       "<div>\n",
       "<style scoped>\n",
       "    .dataframe tbody tr th:only-of-type {\n",
       "        vertical-align: middle;\n",
       "    }\n",
       "\n",
       "    .dataframe tbody tr th {\n",
       "        vertical-align: top;\n",
       "    }\n",
       "\n",
       "    .dataframe thead th {\n",
       "        text-align: right;\n",
       "    }\n",
       "</style>\n",
       "<table border=\"1\" class=\"dataframe\">\n",
       "  <thead>\n",
       "    <tr style=\"text-align: right;\">\n",
       "      <th></th>\n",
       "      <th>ward</th>\n",
       "    </tr>\n",
       "    <tr>\n",
       "      <th>n_clusters</th>\n",
       "      <th></th>\n",
       "    </tr>\n",
       "  </thead>\n",
       "  <tbody>\n",
       "    <tr>\n",
       "      <th>6</th>\n",
       "      <td>0.928571</td>\n",
       "    </tr>\n",
       "    <tr>\n",
       "      <th>7</th>\n",
       "      <td>0.928571</td>\n",
       "    </tr>\n",
       "    <tr>\n",
       "      <th>8</th>\n",
       "      <td>0.928571</td>\n",
       "    </tr>\n",
       "    <tr>\n",
       "      <th>9</th>\n",
       "      <td>0.928571</td>\n",
       "    </tr>\n",
       "    <tr>\n",
       "      <th>10</th>\n",
       "      <td>0.928571</td>\n",
       "    </tr>\n",
       "    <tr>\n",
       "      <th>11</th>\n",
       "      <td>0.928571</td>\n",
       "    </tr>\n",
       "    <tr>\n",
       "      <th>12</th>\n",
       "      <td>0.928571</td>\n",
       "    </tr>\n",
       "  </tbody>\n",
       "</table>\n",
       "</div>"
      ],
      "text/plain": [
       "                ward\n",
       "n_clusters          \n",
       "6           0.928571\n",
       "7           0.928571\n",
       "8           0.928571\n",
       "9           0.928571\n",
       "10          0.928571\n",
       "11          0.928571\n",
       "12          0.928571"
      ]
     },
     "execution_count": 44,
     "metadata": {},
     "output_type": "execute_result"
    }
   ],
   "source": [
    "for k in rango:\n",
    "    # AgglomerativeClustering usando Linkage = Ward \n",
    "    clustering = AgglomerativeClustering(n_clusters=k, linkage=\"ward\")\n",
    "    # Entrenamos y predecimos\n",
    "    clustering.fit_predict(X)\n",
    "    moda=-1 * np.ones(int(k),dtype='int') #moda por cada cluster\n",
    "    for i in range(int(k)):\n",
    "         moda[i] = mode(y[np.argwhere(clustering.labels_== i)],keepdims=False)[0].astype(int) #vemos clase mayoritaria en cada cluster // En colab no hace falta: keepdims=False\n",
    "    y_test_predict = moda[clustering.labels_]  #clases asociadas por la moda en cada cluster predicho\n",
    "    tabla.loc[k,\"ward\"] = accuracy_score(y, y_test_predict) #comprobamos el accuracy de la real a la predicha\n",
    "tabla"
   ]
  },
  {
   "cell_type": "markdown",
   "id": "2fb5aff1-ff34-416a-9347-2499ca0a45fc",
   "metadata": {
    "id": "2fb5aff1-ff34-416a-9347-2499ca0a45fc"
   },
   "source": [
    "### **Kmedoids --> 12 clusters, usando PAM, y centros con k-meoid++**"
   ]
  },
  {
   "cell_type": "code",
   "execution_count": 45,
   "id": "kmpI1XFczDqx",
   "metadata": {
    "colab": {
     "base_uri": "https://localhost:8080/"
    },
    "id": "kmpI1XFczDqx",
    "outputId": "031e4337-e003-4d94-904a-54dce2732000"
   },
   "outputs": [
    {
     "name": "stdout",
     "output_type": "stream",
     "text": [
      "Requirement already satisfied: scikit-learn-extra in c:\\users\\migue\\anaconda3\\lib\\site-packages (0.2.0)\n",
      "Requirement already satisfied: numpy>=1.13.3 in c:\\users\\migue\\anaconda3\\lib\\site-packages (from scikit-learn-extra) (1.21.5)\n",
      "Requirement already satisfied: scipy>=0.19.1 in c:\\users\\migue\\anaconda3\\lib\\site-packages (from scikit-learn-extra) (1.9.1)\n",
      "Requirement already satisfied: scikit-learn>=0.23.0 in c:\\users\\migue\\anaconda3\\lib\\site-packages (from scikit-learn-extra) (1.0.2)\n",
      "Requirement already satisfied: threadpoolctl>=2.0.0 in c:\\users\\migue\\anaconda3\\lib\\site-packages (from scikit-learn>=0.23.0->scikit-learn-extra) (2.2.0)\n",
      "Requirement already satisfied: joblib>=0.11 in c:\\users\\migue\\anaconda3\\lib\\site-packages (from scikit-learn>=0.23.0->scikit-learn-extra) (1.1.0)\n"
     ]
    }
   ],
   "source": [
    "!pip install scikit-learn-extra"
   ]
  },
  {
   "cell_type": "code",
   "execution_count": 46,
   "id": "68feba9b-1065-4263-8e37-327a7dd967a0",
   "metadata": {
    "id": "68feba9b-1065-4263-8e37-327a7dd967a0"
   },
   "outputs": [],
   "source": [
    "# Primero he instalado el paquete sklearn_extra y ahora importo KMedoids\n",
    "from sklearn_extra.cluster import KMedoids"
   ]
  },
  {
   "cell_type": "code",
   "execution_count": 47,
   "id": "JRCHhS4g2Jpk",
   "metadata": {
    "colab": {
     "base_uri": "https://localhost:8080/",
     "height": 457
    },
    "id": "JRCHhS4g2Jpk",
    "outputId": "b17bc14c-37ce-4c9a-c5bd-df6c296b4baf"
   },
   "outputs": [
    {
     "data": {
      "text/html": [
       "<div>\n",
       "<style scoped>\n",
       "    .dataframe tbody tr th:only-of-type {\n",
       "        vertical-align: middle;\n",
       "    }\n",
       "\n",
       "    .dataframe tbody tr th {\n",
       "        vertical-align: top;\n",
       "    }\n",
       "\n",
       "    .dataframe thead th {\n",
       "        text-align: right;\n",
       "    }\n",
       "</style>\n",
       "<table border=\"1\" class=\"dataframe\">\n",
       "  <thead>\n",
       "    <tr style=\"text-align: right;\">\n",
       "      <th></th>\n",
       "      <th>PAM</th>\n",
       "    </tr>\n",
       "    <tr>\n",
       "      <th>n_clusters</th>\n",
       "      <th></th>\n",
       "    </tr>\n",
       "  </thead>\n",
       "  <tbody>\n",
       "    <tr>\n",
       "      <th>1</th>\n",
       "      <td>0.0</td>\n",
       "    </tr>\n",
       "    <tr>\n",
       "      <th>2</th>\n",
       "      <td>0.0</td>\n",
       "    </tr>\n",
       "    <tr>\n",
       "      <th>3</th>\n",
       "      <td>0.0</td>\n",
       "    </tr>\n",
       "    <tr>\n",
       "      <th>4</th>\n",
       "      <td>0.0</td>\n",
       "    </tr>\n",
       "    <tr>\n",
       "      <th>5</th>\n",
       "      <td>0.0</td>\n",
       "    </tr>\n",
       "    <tr>\n",
       "      <th>6</th>\n",
       "      <td>0.0</td>\n",
       "    </tr>\n",
       "    <tr>\n",
       "      <th>7</th>\n",
       "      <td>0.0</td>\n",
       "    </tr>\n",
       "    <tr>\n",
       "      <th>8</th>\n",
       "      <td>0.0</td>\n",
       "    </tr>\n",
       "    <tr>\n",
       "      <th>9</th>\n",
       "      <td>0.0</td>\n",
       "    </tr>\n",
       "    <tr>\n",
       "      <th>10</th>\n",
       "      <td>0.0</td>\n",
       "    </tr>\n",
       "    <tr>\n",
       "      <th>11</th>\n",
       "      <td>0.0</td>\n",
       "    </tr>\n",
       "    <tr>\n",
       "      <th>12</th>\n",
       "      <td>0.0</td>\n",
       "    </tr>\n",
       "  </tbody>\n",
       "</table>\n",
       "</div>"
      ],
      "text/plain": [
       "            PAM\n",
       "n_clusters     \n",
       "1           0.0\n",
       "2           0.0\n",
       "3           0.0\n",
       "4           0.0\n",
       "5           0.0\n",
       "6           0.0\n",
       "7           0.0\n",
       "8           0.0\n",
       "9           0.0\n",
       "10          0.0\n",
       "11          0.0\n",
       "12          0.0"
      ]
     },
     "execution_count": 47,
     "metadata": {},
     "output_type": "execute_result"
    }
   ],
   "source": [
    "# En clase hemos expuesto que el número minimo de clusters es 6\n",
    "min_clusters = 1\n",
    "max_clusters = 12\n",
    "\n",
    "# Creamos el rango de clusters\n",
    "rango = list(range(min_clusters,max_clusters+1))\n",
    "\n",
    "# Indices de la lista --> i for i in range(6,13)\n",
    "lista = list(range(1,13))\n",
    "\n",
    "# Creamos el DataFrame, con el tamaño adecuado\n",
    "tabla = pd.DataFrame(columns=[\"PAM\"], index=rango, data=np.zeros((len(lista),1)))\n",
    "\n",
    "# n_clusters es el número de clusters, que es el indice de la tabla\n",
    "tabla.index.name = \"n_clusters\"\n",
    "tabla"
   ]
  },
  {
   "cell_type": "code",
   "execution_count": 48,
   "id": "b237edbc-7cc3-4112-8cb8-1608e9cd8eca",
   "metadata": {
    "colab": {
     "base_uri": "https://localhost:8080/",
     "height": 457
    },
    "id": "b237edbc-7cc3-4112-8cb8-1608e9cd8eca",
    "outputId": "f3aff17e-4792-4134-f295-a5b56fadd50a"
   },
   "outputs": [
    {
     "data": {
      "text/html": [
       "<div>\n",
       "<style scoped>\n",
       "    .dataframe tbody tr th:only-of-type {\n",
       "        vertical-align: middle;\n",
       "    }\n",
       "\n",
       "    .dataframe tbody tr th {\n",
       "        vertical-align: top;\n",
       "    }\n",
       "\n",
       "    .dataframe thead th {\n",
       "        text-align: right;\n",
       "    }\n",
       "</style>\n",
       "<table border=\"1\" class=\"dataframe\">\n",
       "  <thead>\n",
       "    <tr style=\"text-align: right;\">\n",
       "      <th></th>\n",
       "      <th>PAM</th>\n",
       "    </tr>\n",
       "    <tr>\n",
       "      <th>n_clusters</th>\n",
       "      <th></th>\n",
       "    </tr>\n",
       "  </thead>\n",
       "  <tbody>\n",
       "    <tr>\n",
       "      <th>1</th>\n",
       "      <td>0.333333</td>\n",
       "    </tr>\n",
       "    <tr>\n",
       "      <th>2</th>\n",
       "      <td>0.657143</td>\n",
       "    </tr>\n",
       "    <tr>\n",
       "      <th>3</th>\n",
       "      <td>0.909524</td>\n",
       "    </tr>\n",
       "    <tr>\n",
       "      <th>4</th>\n",
       "      <td>0.900000</td>\n",
       "    </tr>\n",
       "    <tr>\n",
       "      <th>5</th>\n",
       "      <td>0.904762</td>\n",
       "    </tr>\n",
       "    <tr>\n",
       "      <th>6</th>\n",
       "      <td>0.866667</td>\n",
       "    </tr>\n",
       "    <tr>\n",
       "      <th>7</th>\n",
       "      <td>0.904762</td>\n",
       "    </tr>\n",
       "    <tr>\n",
       "      <th>8</th>\n",
       "      <td>0.861905</td>\n",
       "    </tr>\n",
       "    <tr>\n",
       "      <th>9</th>\n",
       "      <td>0.885714</td>\n",
       "    </tr>\n",
       "    <tr>\n",
       "      <th>10</th>\n",
       "      <td>0.904762</td>\n",
       "    </tr>\n",
       "    <tr>\n",
       "      <th>11</th>\n",
       "      <td>0.880952</td>\n",
       "    </tr>\n",
       "    <tr>\n",
       "      <th>12</th>\n",
       "      <td>0.871429</td>\n",
       "    </tr>\n",
       "  </tbody>\n",
       "</table>\n",
       "</div>"
      ],
      "text/plain": [
       "                 PAM\n",
       "n_clusters          \n",
       "1           0.333333\n",
       "2           0.657143\n",
       "3           0.909524\n",
       "4           0.900000\n",
       "5           0.904762\n",
       "6           0.866667\n",
       "7           0.904762\n",
       "8           0.861905\n",
       "9           0.885714\n",
       "10          0.904762\n",
       "11          0.880952\n",
       "12          0.871429"
      ]
     },
     "execution_count": 48,
     "metadata": {},
     "output_type": "execute_result"
    }
   ],
   "source": [
    "for k in rango:\n",
    "    # AgglomerativeClustering usando Linkage = Ward \n",
    "    clustering = KMedoids(n_clusters=k,init=\"k-medoids++\").fit(X)\n",
    "    moda=-1 * np.ones(int(k),dtype='int') #moda por cada cluster\n",
    "    for i in range(int(k)):\n",
    "         moda[i] = mode(y[np.argwhere(clustering.labels_== i)],keepdims=False)[0].astype(int) #vemos clase mayoritaria en cada cluster // En colab no hace falta: keepdims=False\n",
    "    y_test_predict = moda[clustering.labels_]  #clases asociadas por la moda en cada cluster predicho\n",
    "    tabla.loc[k,\"PAM\"] = accuracy_score(y, y_test_predict) #comprobamos el accuracy de la real a la predicha\n",
    "tabla"
   ]
  },
  {
   "cell_type": "code",
   "execution_count": 49,
   "id": "6SvDUZDo53P_",
   "metadata": {
    "colab": {
     "base_uri": "https://localhost:8080/"
    },
    "id": "6SvDUZDo53P_",
    "outputId": "2800c6ce-6296-492b-85e2-6d4974081835"
   },
   "outputs": [
    {
     "data": {
      "text/plain": [
       "array([ 2,  2, 11, 11,  2,  2,  2,  2,  9,  9,  9,  2,  2,  2,  2,  2, 11,\n",
       "        2, 11,  7,  2,  2,  2,  7,  2,  9,  7,  1,  2,  1,  2,  9,  1,  2,\n",
       "        2,  9,  9,  9,  2,  6,  2,  2, 11,  9,  2,  2,  2,  2,  2,  2,  2,\n",
       "        0,  1,  2,  9,  9,  2,  2,  2,  1,  7,  7,  7,  6, 11, 11,  2,  2,\n",
       "        2,  1,  3,  3,  3, 10,  3,  3,  3,  5,  5,  9,  0,  0,  5,  5,  5,\n",
       "       10, 10,  5,  5,  5,  5, 10, 10,  0,  3,  3,  5,  5,  3, 10,  9, 10,\n",
       "       10,  5,  5, 10, 10,  3,  5, 10, 10,  5, 10,  3,  5,  5, 10,  5, 10,\n",
       "        5,  5,  3,  9, 10,  2, 10,  3, 10,  5,  0, 10, 10,  9,  9,  0,  2,\n",
       "        3,  9,  9,  9,  6,  6,  6,  6,  4,  4,  1,  6,  1,  4,  6,  4,  1,\n",
       "        4,  4,  4,  7,  4,  4,  4,  1,  6,  6,  6,  8,  7,  6,  1,  4,  4,\n",
       "        4,  8,  4,  4,  4,  6,  4,  4,  6,  1,  6,  6,  6,  6,  6,  4,  4,\n",
       "        4,  8,  6,  4,  6,  7,  4,  6,  7,  6,  7,  1, 11,  6, 11,  7,  8,\n",
       "        6,  7,  6,  8,  1,  6], dtype=int64)"
      ]
     },
     "execution_count": 49,
     "metadata": {},
     "output_type": "execute_result"
    }
   ],
   "source": [
    "clustering.labels_"
   ]
  },
  {
   "cell_type": "markdown",
   "id": "80f498fa-d80c-4688-a5e0-cc0c7e308d26",
   "metadata": {
    "id": "80f498fa-d80c-4688-a5e0-cc0c7e308d26"
   },
   "source": [
    "### **DBScan, con valor Eps, y minimo de muestras entorno a 12 clusters antes de eliminar puntos aislados**"
   ]
  },
  {
   "cell_type": "code",
   "execution_count": 50,
   "id": "445ab8f0-fa23-4e98-bb13-8d0e03a4b05c",
   "metadata": {
    "id": "445ab8f0-fa23-4e98-bb13-8d0e03a4b05c"
   },
   "outputs": [],
   "source": [
    "from sklearn.cluster import DBSCAN"
   ]
  },
  {
   "cell_type": "code",
   "execution_count": 51,
   "id": "dae5580d-2962-4836-9107-cf78d50c139d",
   "metadata": {
    "colab": {
     "base_uri": "https://localhost:8080/"
    },
    "id": "dae5580d-2962-4836-9107-cf78d50c139d",
    "outputId": "4f9b7d59-062c-4ade-883c-988ea0586353"
   },
   "outputs": [
    {
     "data": {
      "text/plain": [
       "array([-1,  0,  1,  2,  3,  4,  5,  6,  7,  8,  9, 10, 11], dtype=int64)"
      ]
     },
     "execution_count": 51,
     "metadata": {},
     "output_type": "execute_result"
    }
   ],
   "source": [
    "clustering = DBSCAN(eps=0.70, min_samples=2).fit(X)\n",
    "clusters = clustering.labels_\n",
    "np.unique(clusters)"
   ]
  },
  {
   "cell_type": "code",
   "execution_count": 52,
   "id": "fbb674ee-7807-4251-a2e9-814985eace43",
   "metadata": {},
   "outputs": [],
   "source": [
    "#TRAS HABLAR CON TEODORO, ES ASÍ:"
   ]
  },
  {
   "cell_type": "code",
   "execution_count": 53,
   "id": "af425ad9-41ad-4154-b6ca-ea5afd2e531e",
   "metadata": {},
   "outputs": [
    {
     "name": "stdout",
     "output_type": "stream",
     "text": [
      " El acierto es de: 0.6238095238095238\n"
     ]
    }
   ],
   "source": [
    "k=np.max(clusters)+1  # \n",
    "\n",
    "moda=-1 * np.ones(int(k),dtype='int') #moda por cada cluster\n",
    "for i in range(int(k)):\n",
    "      moda[i] = mode(y[np.argwhere(clusters== i)],keepdims=False)[0].astype(int) #vemos clase mayoritaria en cada cluster // En colab no hace falta: keepdims=False\n",
    "y_test_predict = moda[clusters]  #clases asociadas por la moda en cada cluster predicho\n",
    "print(\" El acierto es de:\" ,accuracy_score(y, y_test_predict)) #comprobamos el accuracy de la real a la predicha"
   ]
  },
  {
   "cell_type": "code",
   "execution_count": 54,
   "id": "40557146-091e-4e26-a78a-fab008ef3060",
   "metadata": {},
   "outputs": [],
   "source": [
    "#fin"
   ]
  },
  {
   "cell_type": "code",
   "execution_count": 55,
   "id": "5553ea72-bdb0-42ff-9df0-f652c701448c",
   "metadata": {
    "colab": {
     "base_uri": "https://localhost:8080/"
    },
    "id": "5553ea72-bdb0-42ff-9df0-f652c701448c",
    "outputId": "eb0057f8-b86a-4bc0-8cf3-19fdd42c441c"
   },
   "outputs": [
    {
     "data": {
      "text/plain": [
       "-1    40\n",
       "dtype: int64"
      ]
     },
     "execution_count": 55,
     "metadata": {},
     "output_type": "execute_result"
    }
   ],
   "source": [
    "no_clasificados = clusters[(clusters == -1)]\n",
    "pd.value_counts(no_clasificados)"
   ]
  },
  {
   "cell_type": "code",
   "execution_count": 56,
   "id": "4785dc4a-96f6-4bca-9ff6-5792e8ba585a",
   "metadata": {
    "colab": {
     "base_uri": "https://localhost:8080/"
    },
    "id": "4785dc4a-96f6-4bca-9ff6-5792e8ba585a",
    "outputId": "0f7b5494-6c68-4759-fdf5-a91b930df23d"
   },
   "outputs": [
    {
     "name": "stdout",
     "output_type": "stream",
     "text": [
      "[0, 1, 2, 3, 4, 5, 6, 7, 11, 13, 14, 17, 19, 20, 21, 22, 24, 26, 28, 29, 32, 33, 34, 38, 40, 41, 42, 44, 45, 46, 47, 48, 49, 50, 52, 53, 54, 55, 56, 57, 58, 62, 63, 65, 66, 67, 68, 69, 70, 71, 72, 73, 74, 75, 76, 80, 81, 82, 83, 84, 85, 86, 88, 89, 90, 91, 92, 93, 95, 96, 99, 101, 102, 103, 104, 105, 106, 107, 109, 110, 111, 112, 115, 116, 117, 118, 119, 120, 121, 122, 123, 125, 126, 127, 128, 130, 131, 132, 133, 134, 135, 136, 137, 138, 139, 140, 142, 143, 144, 145, 147, 148, 149, 150, 151, 152, 153, 154, 155, 156, 157, 158, 159, 160, 161, 162, 163, 164, 166, 167, 168, 169, 170, 171, 172, 173, 174, 175, 176, 177, 178, 180, 181, 182, 183, 184, 185, 186, 187, 189, 190, 191, 192, 193, 194, 195, 196, 197, 198, 199, 200, 201, 202, 203, 204, 205, 206, 207, 208, 209]\n"
     ]
    }
   ],
   "source": [
    "# Nos quedamos con los datos X que si que consigue clasificar es decir labels_ != -1 \n",
    "indices = []\n",
    "for i in range(len(clusters)):\n",
    "    if(clusters[i] != -1):\n",
    "        indices.append(i)\n",
    "# Indices de las instancias que si que conseguimos clasificar\n",
    "print(indices)"
   ]
  },
  {
   "cell_type": "code",
   "execution_count": 57,
   "id": "dd468ca6-819e-4318-8960-aef57c9c1673",
   "metadata": {
    "colab": {
     "base_uri": "https://localhost:8080/",
     "height": 424
    },
    "id": "dd468ca6-819e-4318-8960-aef57c9c1673",
    "outputId": "6860f169-5805-463e-d490-b1337783e815"
   },
   "outputs": [
    {
     "data": {
      "text/html": [
       "<div>\n",
       "<style scoped>\n",
       "    .dataframe tbody tr th:only-of-type {\n",
       "        vertical-align: middle;\n",
       "    }\n",
       "\n",
       "    .dataframe tbody tr th {\n",
       "        vertical-align: top;\n",
       "    }\n",
       "\n",
       "    .dataframe thead th {\n",
       "        text-align: right;\n",
       "    }\n",
       "</style>\n",
       "<table border=\"1\" class=\"dataframe\">\n",
       "  <thead>\n",
       "    <tr style=\"text-align: right;\">\n",
       "      <th></th>\n",
       "      <th>A</th>\n",
       "      <th>P</th>\n",
       "      <th>C</th>\n",
       "      <th>Len</th>\n",
       "      <th>Wid</th>\n",
       "      <th>Asy</th>\n",
       "      <th>Len2</th>\n",
       "      <th>Wheat</th>\n",
       "    </tr>\n",
       "  </thead>\n",
       "  <tbody>\n",
       "    <tr>\n",
       "      <th>0</th>\n",
       "      <td>15.26</td>\n",
       "      <td>14.84</td>\n",
       "      <td>0.8710</td>\n",
       "      <td>5.763</td>\n",
       "      <td>3.312</td>\n",
       "      <td>2.221</td>\n",
       "      <td>5.220</td>\n",
       "      <td>1</td>\n",
       "    </tr>\n",
       "    <tr>\n",
       "      <th>1</th>\n",
       "      <td>14.88</td>\n",
       "      <td>14.57</td>\n",
       "      <td>0.8811</td>\n",
       "      <td>5.554</td>\n",
       "      <td>3.333</td>\n",
       "      <td>1.018</td>\n",
       "      <td>4.956</td>\n",
       "      <td>1</td>\n",
       "    </tr>\n",
       "    <tr>\n",
       "      <th>2</th>\n",
       "      <td>14.29</td>\n",
       "      <td>14.09</td>\n",
       "      <td>0.9050</td>\n",
       "      <td>5.291</td>\n",
       "      <td>3.337</td>\n",
       "      <td>2.699</td>\n",
       "      <td>4.825</td>\n",
       "      <td>1</td>\n",
       "    </tr>\n",
       "    <tr>\n",
       "      <th>3</th>\n",
       "      <td>13.84</td>\n",
       "      <td>13.94</td>\n",
       "      <td>0.8955</td>\n",
       "      <td>5.324</td>\n",
       "      <td>3.379</td>\n",
       "      <td>2.259</td>\n",
       "      <td>4.805</td>\n",
       "      <td>1</td>\n",
       "    </tr>\n",
       "    <tr>\n",
       "      <th>4</th>\n",
       "      <td>16.14</td>\n",
       "      <td>14.99</td>\n",
       "      <td>0.9034</td>\n",
       "      <td>5.658</td>\n",
       "      <td>3.562</td>\n",
       "      <td>1.355</td>\n",
       "      <td>5.175</td>\n",
       "      <td>1</td>\n",
       "    </tr>\n",
       "    <tr>\n",
       "      <th>...</th>\n",
       "      <td>...</td>\n",
       "      <td>...</td>\n",
       "      <td>...</td>\n",
       "      <td>...</td>\n",
       "      <td>...</td>\n",
       "      <td>...</td>\n",
       "      <td>...</td>\n",
       "      <td>...</td>\n",
       "    </tr>\n",
       "    <tr>\n",
       "      <th>205</th>\n",
       "      <td>12.19</td>\n",
       "      <td>13.20</td>\n",
       "      <td>0.8783</td>\n",
       "      <td>5.137</td>\n",
       "      <td>2.981</td>\n",
       "      <td>3.631</td>\n",
       "      <td>4.870</td>\n",
       "      <td>3</td>\n",
       "    </tr>\n",
       "    <tr>\n",
       "      <th>206</th>\n",
       "      <td>11.23</td>\n",
       "      <td>12.88</td>\n",
       "      <td>0.8511</td>\n",
       "      <td>5.140</td>\n",
       "      <td>2.795</td>\n",
       "      <td>4.325</td>\n",
       "      <td>5.003</td>\n",
       "      <td>3</td>\n",
       "    </tr>\n",
       "    <tr>\n",
       "      <th>207</th>\n",
       "      <td>13.20</td>\n",
       "      <td>13.66</td>\n",
       "      <td>0.8883</td>\n",
       "      <td>5.236</td>\n",
       "      <td>3.232</td>\n",
       "      <td>8.315</td>\n",
       "      <td>5.056</td>\n",
       "      <td>3</td>\n",
       "    </tr>\n",
       "    <tr>\n",
       "      <th>208</th>\n",
       "      <td>11.84</td>\n",
       "      <td>13.21</td>\n",
       "      <td>0.8521</td>\n",
       "      <td>5.175</td>\n",
       "      <td>2.836</td>\n",
       "      <td>3.598</td>\n",
       "      <td>5.044</td>\n",
       "      <td>3</td>\n",
       "    </tr>\n",
       "    <tr>\n",
       "      <th>209</th>\n",
       "      <td>12.30</td>\n",
       "      <td>13.34</td>\n",
       "      <td>0.8684</td>\n",
       "      <td>5.243</td>\n",
       "      <td>2.974</td>\n",
       "      <td>5.637</td>\n",
       "      <td>5.063</td>\n",
       "      <td>3</td>\n",
       "    </tr>\n",
       "  </tbody>\n",
       "</table>\n",
       "<p>170 rows × 8 columns</p>\n",
       "</div>"
      ],
      "text/plain": [
       "         A      P       C    Len    Wid    Asy   Len2  Wheat\n",
       "0    15.26  14.84  0.8710  5.763  3.312  2.221  5.220      1\n",
       "1    14.88  14.57  0.8811  5.554  3.333  1.018  4.956      1\n",
       "2    14.29  14.09  0.9050  5.291  3.337  2.699  4.825      1\n",
       "3    13.84  13.94  0.8955  5.324  3.379  2.259  4.805      1\n",
       "4    16.14  14.99  0.9034  5.658  3.562  1.355  5.175      1\n",
       "..     ...    ...     ...    ...    ...    ...    ...    ...\n",
       "205  12.19  13.20  0.8783  5.137  2.981  3.631  4.870      3\n",
       "206  11.23  12.88  0.8511  5.140  2.795  4.325  5.003      3\n",
       "207  13.20  13.66  0.8883  5.236  3.232  8.315  5.056      3\n",
       "208  11.84  13.21  0.8521  5.175  2.836  3.598  5.044      3\n",
       "209  12.30  13.34  0.8684  5.243  2.974  5.637  5.063      3\n",
       "\n",
       "[170 rows x 8 columns]"
      ]
     },
     "execution_count": 57,
     "metadata": {},
     "output_type": "execute_result"
    }
   ],
   "source": [
    "data_clean=data.iloc[[elemento for elemento in indices]]\n",
    "data_clean"
   ]
  },
  {
   "cell_type": "code",
   "execution_count": 58,
   "id": "5c9fa8a5-6b0d-4314-87f4-f425257024ae",
   "metadata": {
    "id": "5c9fa8a5-6b0d-4314-87f4-f425257024ae"
   },
   "outputs": [],
   "source": [
    "data_clean.index=(list(range(0,len(indices))))"
   ]
  },
  {
   "cell_type": "code",
   "execution_count": 59,
   "id": "4222eb50-7fab-4f7f-8aea-f346b91a3cb8",
   "metadata": {
    "colab": {
     "base_uri": "https://localhost:8080/",
     "height": 424
    },
    "id": "4222eb50-7fab-4f7f-8aea-f346b91a3cb8",
    "outputId": "0b39ab16-2ba5-4048-b064-afaef5aca356"
   },
   "outputs": [
    {
     "data": {
      "text/html": [
       "<div>\n",
       "<style scoped>\n",
       "    .dataframe tbody tr th:only-of-type {\n",
       "        vertical-align: middle;\n",
       "    }\n",
       "\n",
       "    .dataframe tbody tr th {\n",
       "        vertical-align: top;\n",
       "    }\n",
       "\n",
       "    .dataframe thead th {\n",
       "        text-align: right;\n",
       "    }\n",
       "</style>\n",
       "<table border=\"1\" class=\"dataframe\">\n",
       "  <thead>\n",
       "    <tr style=\"text-align: right;\">\n",
       "      <th></th>\n",
       "      <th>A</th>\n",
       "      <th>P</th>\n",
       "      <th>C</th>\n",
       "      <th>Len</th>\n",
       "      <th>Wid</th>\n",
       "      <th>Asy</th>\n",
       "      <th>Len2</th>\n",
       "      <th>Wheat</th>\n",
       "    </tr>\n",
       "  </thead>\n",
       "  <tbody>\n",
       "    <tr>\n",
       "      <th>0</th>\n",
       "      <td>15.26</td>\n",
       "      <td>14.84</td>\n",
       "      <td>0.8710</td>\n",
       "      <td>5.763</td>\n",
       "      <td>3.312</td>\n",
       "      <td>2.221</td>\n",
       "      <td>5.220</td>\n",
       "      <td>1</td>\n",
       "    </tr>\n",
       "    <tr>\n",
       "      <th>1</th>\n",
       "      <td>14.88</td>\n",
       "      <td>14.57</td>\n",
       "      <td>0.8811</td>\n",
       "      <td>5.554</td>\n",
       "      <td>3.333</td>\n",
       "      <td>1.018</td>\n",
       "      <td>4.956</td>\n",
       "      <td>1</td>\n",
       "    </tr>\n",
       "    <tr>\n",
       "      <th>2</th>\n",
       "      <td>14.29</td>\n",
       "      <td>14.09</td>\n",
       "      <td>0.9050</td>\n",
       "      <td>5.291</td>\n",
       "      <td>3.337</td>\n",
       "      <td>2.699</td>\n",
       "      <td>4.825</td>\n",
       "      <td>1</td>\n",
       "    </tr>\n",
       "    <tr>\n",
       "      <th>3</th>\n",
       "      <td>13.84</td>\n",
       "      <td>13.94</td>\n",
       "      <td>0.8955</td>\n",
       "      <td>5.324</td>\n",
       "      <td>3.379</td>\n",
       "      <td>2.259</td>\n",
       "      <td>4.805</td>\n",
       "      <td>1</td>\n",
       "    </tr>\n",
       "    <tr>\n",
       "      <th>4</th>\n",
       "      <td>16.14</td>\n",
       "      <td>14.99</td>\n",
       "      <td>0.9034</td>\n",
       "      <td>5.658</td>\n",
       "      <td>3.562</td>\n",
       "      <td>1.355</td>\n",
       "      <td>5.175</td>\n",
       "      <td>1</td>\n",
       "    </tr>\n",
       "    <tr>\n",
       "      <th>...</th>\n",
       "      <td>...</td>\n",
       "      <td>...</td>\n",
       "      <td>...</td>\n",
       "      <td>...</td>\n",
       "      <td>...</td>\n",
       "      <td>...</td>\n",
       "      <td>...</td>\n",
       "      <td>...</td>\n",
       "    </tr>\n",
       "    <tr>\n",
       "      <th>165</th>\n",
       "      <td>12.19</td>\n",
       "      <td>13.20</td>\n",
       "      <td>0.8783</td>\n",
       "      <td>5.137</td>\n",
       "      <td>2.981</td>\n",
       "      <td>3.631</td>\n",
       "      <td>4.870</td>\n",
       "      <td>3</td>\n",
       "    </tr>\n",
       "    <tr>\n",
       "      <th>166</th>\n",
       "      <td>11.23</td>\n",
       "      <td>12.88</td>\n",
       "      <td>0.8511</td>\n",
       "      <td>5.140</td>\n",
       "      <td>2.795</td>\n",
       "      <td>4.325</td>\n",
       "      <td>5.003</td>\n",
       "      <td>3</td>\n",
       "    </tr>\n",
       "    <tr>\n",
       "      <th>167</th>\n",
       "      <td>13.20</td>\n",
       "      <td>13.66</td>\n",
       "      <td>0.8883</td>\n",
       "      <td>5.236</td>\n",
       "      <td>3.232</td>\n",
       "      <td>8.315</td>\n",
       "      <td>5.056</td>\n",
       "      <td>3</td>\n",
       "    </tr>\n",
       "    <tr>\n",
       "      <th>168</th>\n",
       "      <td>11.84</td>\n",
       "      <td>13.21</td>\n",
       "      <td>0.8521</td>\n",
       "      <td>5.175</td>\n",
       "      <td>2.836</td>\n",
       "      <td>3.598</td>\n",
       "      <td>5.044</td>\n",
       "      <td>3</td>\n",
       "    </tr>\n",
       "    <tr>\n",
       "      <th>169</th>\n",
       "      <td>12.30</td>\n",
       "      <td>13.34</td>\n",
       "      <td>0.8684</td>\n",
       "      <td>5.243</td>\n",
       "      <td>2.974</td>\n",
       "      <td>5.637</td>\n",
       "      <td>5.063</td>\n",
       "      <td>3</td>\n",
       "    </tr>\n",
       "  </tbody>\n",
       "</table>\n",
       "<p>170 rows × 8 columns</p>\n",
       "</div>"
      ],
      "text/plain": [
       "         A      P       C    Len    Wid    Asy   Len2  Wheat\n",
       "0    15.26  14.84  0.8710  5.763  3.312  2.221  5.220      1\n",
       "1    14.88  14.57  0.8811  5.554  3.333  1.018  4.956      1\n",
       "2    14.29  14.09  0.9050  5.291  3.337  2.699  4.825      1\n",
       "3    13.84  13.94  0.8955  5.324  3.379  2.259  4.805      1\n",
       "4    16.14  14.99  0.9034  5.658  3.562  1.355  5.175      1\n",
       "..     ...    ...     ...    ...    ...    ...    ...    ...\n",
       "165  12.19  13.20  0.8783  5.137  2.981  3.631  4.870      3\n",
       "166  11.23  12.88  0.8511  5.140  2.795  4.325  5.003      3\n",
       "167  13.20  13.66  0.8883  5.236  3.232  8.315  5.056      3\n",
       "168  11.84  13.21  0.8521  5.175  2.836  3.598  5.044      3\n",
       "169  12.30  13.34  0.8684  5.243  2.974  5.637  5.063      3\n",
       "\n",
       "[170 rows x 8 columns]"
      ]
     },
     "execution_count": 59,
     "metadata": {},
     "output_type": "execute_result"
    }
   ],
   "source": [
    "data_clean\n"
   ]
  },
  {
   "cell_type": "code",
   "execution_count": 60,
   "id": "1249007c-5514-4707-b25d-9e19ea2c9174",
   "metadata": {
    "colab": {
     "base_uri": "https://localhost:8080/"
    },
    "id": "1249007c-5514-4707-b25d-9e19ea2c9174",
    "outputId": "5852f2b5-98ba-46da-89ff-8dc63fa6590e"
   },
   "outputs": [
    {
     "data": {
      "text/plain": [
       "(170, 8)"
      ]
     },
     "execution_count": 60,
     "metadata": {},
     "output_type": "execute_result"
    }
   ],
   "source": [
    "X = data_clean\n",
    "y=data_clean.Wheat\n",
    "y=np.array(y)\n",
    "X = StandardScaler().fit_transform(X)\n",
    "X.shape"
   ]
  },
  {
   "cell_type": "code",
   "execution_count": 61,
   "id": "4280d857-2667-47d8-a975-148efa69e2c1",
   "metadata": {
    "colab": {
     "base_uri": "https://localhost:8080/"
    },
    "id": "4280d857-2667-47d8-a975-148efa69e2c1",
    "outputId": "92347562-f49f-4c06-b57b-07b891efda1a"
   },
   "outputs": [
    {
     "data": {
      "text/plain": [
       "Index(['A', 'P', 'C', 'Len', 'Wid', 'Asy', 'Len2', 'Wheat'], dtype='object')"
      ]
     },
     "execution_count": 61,
     "metadata": {},
     "output_type": "execute_result"
    }
   ],
   "source": [
    "data_clean.columns"
   ]
  },
  {
   "cell_type": "code",
   "execution_count": 62,
   "id": "b79f50e0-fb71-4657-90dd-8d6ae5d16de9",
   "metadata": {
    "colab": {
     "base_uri": "https://localhost:8080/"
    },
    "id": "b79f50e0-fb71-4657-90dd-8d6ae5d16de9",
    "outputId": "c4b4abfc-1610-4bf9-d6dd-79b415cb1992"
   },
   "outputs": [
    {
     "data": {
      "text/plain": [
       "array([ 0,  0,  0,  0,  1,  0,  0,  0,  0,  0,  0,  1,  0,  0,  0,  1,  0,\n",
       "        0,  0,  0,  2,  0,  0,  0,  0,  0, -1,  0,  0,  0,  0,  0,  0,  0,\n",
       "        2,  0,  0,  0,  0,  1,  0, -1,  0, -1,  0,  0,  0, -1,  3,  3,  3,\n",
       "        4,  3,  3,  3,  5,  6,  7,  8,  4,  4, -1,  9,  9,  8,  4,  4,  6,\n",
       "        3,  4,  4,  4,  4,  4,  4,  4,  4,  3,  4,  4, -1, -1,  4,  4,  4,\n",
       "        4,  4,  7,  3,  3,  4,  4,  3,  4,  8,  4,  4,  3,  3,  5, -1,  3,\n",
       "       10, 10,  3, 11, 12, 11, 11, 11, 11, 11, 11, 11, -1, 11, 11, 11, 11,\n",
       "       11, 11, 11, 11, 11, 11, 11, 11, 11, 11, 11, 11, 11, 11, 11, 11, 11,\n",
       "       11, 11, 11, 11, 11, 11, 11, 11, 11, 12, 11, 11, 11, 11, 11, 11, 13,\n",
       "       11, 11, 11, 11, 11, 11, 14, 11, 14, 11, 15, 11, 13, 11, 15, 11, 11],\n",
       "      dtype=int64)"
      ]
     },
     "execution_count": 62,
     "metadata": {},
     "output_type": "execute_result"
    }
   ],
   "source": [
    "clustering.fit(X)\n",
    "new_clusters = clustering.labels_\n",
    "new_clusters"
   ]
  },
  {
   "cell_type": "code",
   "execution_count": 63,
   "id": "2ab49929-c70f-4e0d-85a4-a57ab8659cae",
   "metadata": {
    "colab": {
     "base_uri": "https://localhost:8080/"
    },
    "id": "2ab49929-c70f-4e0d-85a4-a57ab8659cae",
    "outputId": "3bd5af55-1368-49bb-b455-de0f2fe41e17"
   },
   "outputs": [
    {
     "data": {
      "text/plain": [
       "array([-1,  0,  1,  2,  3,  4,  5,  6,  7,  8,  9, 10, 11, 12, 13, 14, 15],\n",
       "      dtype=int64)"
      ]
     },
     "execution_count": 63,
     "metadata": {},
     "output_type": "execute_result"
    }
   ],
   "source": [
    "np.unique(new_clusters)"
   ]
  },
  {
   "cell_type": "code",
   "execution_count": 64,
   "id": "uEBaN02z4el2",
   "metadata": {
    "colab": {
     "base_uri": "https://localhost:8080/"
    },
    "id": "uEBaN02z4el2",
    "outputId": "8eec22b8-aec6-4ab3-d617-859433ee2ffe"
   },
   "outputs": [
    {
     "name": "stdout",
     "output_type": "stream",
     "text": [
      " El acierto es de: 0.9529411764705882\n"
     ]
    }
   ],
   "source": [
    "k=np.max(new_clusters)+1  # \n",
    "\n",
    "moda=-1 * np.ones(int(k),dtype='int') #moda por cada cluster\n",
    "for i in range(int(k)):\n",
    "      moda[i] = mode(y[np.argwhere(new_clusters== i)],keepdims=False)[0].astype(int) #vemos clase mayoritaria en cada cluster // En colab no hace falta: keepdims=False\n",
    "y_test_predict = moda[new_clusters]  #clases asociadas por la moda en cada cluster predicho\n",
    "print(\" El acierto es de:\" ,accuracy_score(y, y_test_predict)) #comprobamos el accuracy de la real a la predicha"
   ]
  },
  {
   "cell_type": "code",
   "execution_count": null,
   "id": "Bm-wkxnQ6I5P",
   "metadata": {
    "id": "Bm-wkxnQ6I5P"
   },
   "outputs": [],
   "source": []
  },
  {
   "cell_type": "code",
   "execution_count": null,
   "id": "JPHoa14d6KKL",
   "metadata": {
    "id": "JPHoa14d6KKL"
   },
   "outputs": [],
   "source": []
  }
 ],
 "metadata": {
  "colab": {
   "provenance": []
  },
  "kernelspec": {
   "display_name": "Python 3 (ipykernel)",
   "language": "python",
   "name": "python3"
  },
  "language_info": {
   "codemirror_mode": {
    "name": "ipython",
    "version": 3
   },
   "file_extension": ".py",
   "mimetype": "text/x-python",
   "name": "python",
   "nbconvert_exporter": "python",
   "pygments_lexer": "ipython3",
   "version": "3.9.13"
  }
 },
 "nbformat": 4,
 "nbformat_minor": 5
}
