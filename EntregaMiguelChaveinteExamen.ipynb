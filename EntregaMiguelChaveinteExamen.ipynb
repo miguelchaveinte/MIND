{
 "cells": [
  {
   "cell_type": "markdown",
   "id": "edf864ba-37f3-4f26-9a12-ef6dcaadc37d",
   "metadata": {},
   "source": [
    "### Clase Neurona"
   ]
  },
  {
   "cell_type": "code",
   "execution_count": 23,
   "id": "3e72becb-e323-4636-85f6-1e61bc451fcc",
   "metadata": {},
   "outputs": [],
   "source": [
    "import numpy as np\n",
    "import pandas as pd\n",
    "from sklearn.preprocessing import normalize"
   ]
  },
  {
   "cell_type": "code",
   "execution_count": 18,
   "id": "430e5aff-1688-409a-b993-5f14b2e40ce5",
   "metadata": {},
   "outputs": [],
   "source": [
    "import tensorflow as tf\n",
    "from keras.utils import to_categorical"
   ]
  },
  {
   "cell_type": "code",
   "execution_count": 2,
   "id": "e6851511-9994-413c-8616-ee3808cbba20",
   "metadata": {},
   "outputs": [
    {
     "name": "stderr",
     "output_type": "stream",
     "text": [
      "/home/usuario/anaconda3/lib/python3.9/site-packages/pandas/io/pytables.py:3007: FutureWarning: In a future version, the Index constructor will not infer numeric dtypes when passed object-dtype sequences (matching Series behavior)\n",
      "  index = factory(\n"
     ]
    }
   ],
   "source": [
    "data=pd.read_hdf('MNIST_3500.h5') #leemos el dataset"
   ]
  },
  {
   "cell_type": "code",
   "execution_count": 3,
   "id": "0658221f-2dae-40ac-a23d-32ae22979356",
   "metadata": {},
   "outputs": [
    {
     "data": {
      "text/html": [
       "<div>\n",
       "<style scoped>\n",
       "    .dataframe tbody tr th:only-of-type {\n",
       "        vertical-align: middle;\n",
       "    }\n",
       "\n",
       "    .dataframe tbody tr th {\n",
       "        vertical-align: top;\n",
       "    }\n",
       "\n",
       "    .dataframe thead th {\n",
       "        text-align: right;\n",
       "    }\n",
       "</style>\n",
       "<table border=\"1\" class=\"dataframe\">\n",
       "  <thead>\n",
       "    <tr style=\"text-align: right;\">\n",
       "      <th></th>\n",
       "      <th>0</th>\n",
       "      <th>1</th>\n",
       "      <th>2</th>\n",
       "      <th>3</th>\n",
       "      <th>4</th>\n",
       "      <th>5</th>\n",
       "      <th>6</th>\n",
       "      <th>7</th>\n",
       "      <th>8</th>\n",
       "      <th>9</th>\n",
       "      <th>...</th>\n",
       "      <th>775</th>\n",
       "      <th>776</th>\n",
       "      <th>777</th>\n",
       "      <th>778</th>\n",
       "      <th>779</th>\n",
       "      <th>780</th>\n",
       "      <th>781</th>\n",
       "      <th>782</th>\n",
       "      <th>783</th>\n",
       "      <th>target</th>\n",
       "    </tr>\n",
       "  </thead>\n",
       "  <tbody>\n",
       "    <tr>\n",
       "      <th>0</th>\n",
       "      <td>0.0</td>\n",
       "      <td>0.0</td>\n",
       "      <td>0.0</td>\n",
       "      <td>0.0</td>\n",
       "      <td>0.0</td>\n",
       "      <td>0.0</td>\n",
       "      <td>0.0</td>\n",
       "      <td>0.0</td>\n",
       "      <td>0.0</td>\n",
       "      <td>0.0</td>\n",
       "      <td>...</td>\n",
       "      <td>0.0</td>\n",
       "      <td>0.0</td>\n",
       "      <td>0.0</td>\n",
       "      <td>0.0</td>\n",
       "      <td>0.0</td>\n",
       "      <td>0.0</td>\n",
       "      <td>0.0</td>\n",
       "      <td>0.0</td>\n",
       "      <td>0.0</td>\n",
       "      <td>5</td>\n",
       "    </tr>\n",
       "    <tr>\n",
       "      <th>1</th>\n",
       "      <td>0.0</td>\n",
       "      <td>0.0</td>\n",
       "      <td>0.0</td>\n",
       "      <td>0.0</td>\n",
       "      <td>0.0</td>\n",
       "      <td>0.0</td>\n",
       "      <td>0.0</td>\n",
       "      <td>0.0</td>\n",
       "      <td>0.0</td>\n",
       "      <td>0.0</td>\n",
       "      <td>...</td>\n",
       "      <td>0.0</td>\n",
       "      <td>0.0</td>\n",
       "      <td>0.0</td>\n",
       "      <td>0.0</td>\n",
       "      <td>0.0</td>\n",
       "      <td>0.0</td>\n",
       "      <td>0.0</td>\n",
       "      <td>0.0</td>\n",
       "      <td>0.0</td>\n",
       "      <td>0</td>\n",
       "    </tr>\n",
       "    <tr>\n",
       "      <th>2</th>\n",
       "      <td>0.0</td>\n",
       "      <td>0.0</td>\n",
       "      <td>0.0</td>\n",
       "      <td>0.0</td>\n",
       "      <td>0.0</td>\n",
       "      <td>0.0</td>\n",
       "      <td>0.0</td>\n",
       "      <td>0.0</td>\n",
       "      <td>0.0</td>\n",
       "      <td>0.0</td>\n",
       "      <td>...</td>\n",
       "      <td>0.0</td>\n",
       "      <td>0.0</td>\n",
       "      <td>0.0</td>\n",
       "      <td>0.0</td>\n",
       "      <td>0.0</td>\n",
       "      <td>0.0</td>\n",
       "      <td>0.0</td>\n",
       "      <td>0.0</td>\n",
       "      <td>0.0</td>\n",
       "      <td>4</td>\n",
       "    </tr>\n",
       "    <tr>\n",
       "      <th>3</th>\n",
       "      <td>0.0</td>\n",
       "      <td>0.0</td>\n",
       "      <td>0.0</td>\n",
       "      <td>0.0</td>\n",
       "      <td>0.0</td>\n",
       "      <td>0.0</td>\n",
       "      <td>0.0</td>\n",
       "      <td>0.0</td>\n",
       "      <td>0.0</td>\n",
       "      <td>0.0</td>\n",
       "      <td>...</td>\n",
       "      <td>0.0</td>\n",
       "      <td>0.0</td>\n",
       "      <td>0.0</td>\n",
       "      <td>0.0</td>\n",
       "      <td>0.0</td>\n",
       "      <td>0.0</td>\n",
       "      <td>0.0</td>\n",
       "      <td>0.0</td>\n",
       "      <td>0.0</td>\n",
       "      <td>1</td>\n",
       "    </tr>\n",
       "    <tr>\n",
       "      <th>4</th>\n",
       "      <td>0.0</td>\n",
       "      <td>0.0</td>\n",
       "      <td>0.0</td>\n",
       "      <td>0.0</td>\n",
       "      <td>0.0</td>\n",
       "      <td>0.0</td>\n",
       "      <td>0.0</td>\n",
       "      <td>0.0</td>\n",
       "      <td>0.0</td>\n",
       "      <td>0.0</td>\n",
       "      <td>...</td>\n",
       "      <td>0.0</td>\n",
       "      <td>0.0</td>\n",
       "      <td>0.0</td>\n",
       "      <td>0.0</td>\n",
       "      <td>0.0</td>\n",
       "      <td>0.0</td>\n",
       "      <td>0.0</td>\n",
       "      <td>0.0</td>\n",
       "      <td>0.0</td>\n",
       "      <td>9</td>\n",
       "    </tr>\n",
       "    <tr>\n",
       "      <th>...</th>\n",
       "      <td>...</td>\n",
       "      <td>...</td>\n",
       "      <td>...</td>\n",
       "      <td>...</td>\n",
       "      <td>...</td>\n",
       "      <td>...</td>\n",
       "      <td>...</td>\n",
       "      <td>...</td>\n",
       "      <td>...</td>\n",
       "      <td>...</td>\n",
       "      <td>...</td>\n",
       "      <td>...</td>\n",
       "      <td>...</td>\n",
       "      <td>...</td>\n",
       "      <td>...</td>\n",
       "      <td>...</td>\n",
       "      <td>...</td>\n",
       "      <td>...</td>\n",
       "      <td>...</td>\n",
       "      <td>...</td>\n",
       "      <td>...</td>\n",
       "    </tr>\n",
       "    <tr>\n",
       "      <th>3495</th>\n",
       "      <td>0.0</td>\n",
       "      <td>0.0</td>\n",
       "      <td>0.0</td>\n",
       "      <td>0.0</td>\n",
       "      <td>0.0</td>\n",
       "      <td>0.0</td>\n",
       "      <td>0.0</td>\n",
       "      <td>0.0</td>\n",
       "      <td>0.0</td>\n",
       "      <td>0.0</td>\n",
       "      <td>...</td>\n",
       "      <td>0.0</td>\n",
       "      <td>0.0</td>\n",
       "      <td>0.0</td>\n",
       "      <td>0.0</td>\n",
       "      <td>0.0</td>\n",
       "      <td>0.0</td>\n",
       "      <td>0.0</td>\n",
       "      <td>0.0</td>\n",
       "      <td>0.0</td>\n",
       "      <td>8</td>\n",
       "    </tr>\n",
       "    <tr>\n",
       "      <th>3496</th>\n",
       "      <td>0.0</td>\n",
       "      <td>0.0</td>\n",
       "      <td>0.0</td>\n",
       "      <td>0.0</td>\n",
       "      <td>0.0</td>\n",
       "      <td>0.0</td>\n",
       "      <td>0.0</td>\n",
       "      <td>0.0</td>\n",
       "      <td>0.0</td>\n",
       "      <td>0.0</td>\n",
       "      <td>...</td>\n",
       "      <td>0.0</td>\n",
       "      <td>0.0</td>\n",
       "      <td>0.0</td>\n",
       "      <td>0.0</td>\n",
       "      <td>0.0</td>\n",
       "      <td>0.0</td>\n",
       "      <td>0.0</td>\n",
       "      <td>0.0</td>\n",
       "      <td>0.0</td>\n",
       "      <td>4</td>\n",
       "    </tr>\n",
       "    <tr>\n",
       "      <th>3497</th>\n",
       "      <td>0.0</td>\n",
       "      <td>0.0</td>\n",
       "      <td>0.0</td>\n",
       "      <td>0.0</td>\n",
       "      <td>0.0</td>\n",
       "      <td>0.0</td>\n",
       "      <td>0.0</td>\n",
       "      <td>0.0</td>\n",
       "      <td>0.0</td>\n",
       "      <td>0.0</td>\n",
       "      <td>...</td>\n",
       "      <td>0.0</td>\n",
       "      <td>0.0</td>\n",
       "      <td>0.0</td>\n",
       "      <td>0.0</td>\n",
       "      <td>0.0</td>\n",
       "      <td>0.0</td>\n",
       "      <td>0.0</td>\n",
       "      <td>0.0</td>\n",
       "      <td>0.0</td>\n",
       "      <td>8</td>\n",
       "    </tr>\n",
       "    <tr>\n",
       "      <th>3498</th>\n",
       "      <td>0.0</td>\n",
       "      <td>0.0</td>\n",
       "      <td>0.0</td>\n",
       "      <td>0.0</td>\n",
       "      <td>0.0</td>\n",
       "      <td>0.0</td>\n",
       "      <td>0.0</td>\n",
       "      <td>0.0</td>\n",
       "      <td>0.0</td>\n",
       "      <td>0.0</td>\n",
       "      <td>...</td>\n",
       "      <td>0.0</td>\n",
       "      <td>0.0</td>\n",
       "      <td>0.0</td>\n",
       "      <td>0.0</td>\n",
       "      <td>0.0</td>\n",
       "      <td>0.0</td>\n",
       "      <td>0.0</td>\n",
       "      <td>0.0</td>\n",
       "      <td>0.0</td>\n",
       "      <td>7</td>\n",
       "    </tr>\n",
       "    <tr>\n",
       "      <th>3499</th>\n",
       "      <td>0.0</td>\n",
       "      <td>0.0</td>\n",
       "      <td>0.0</td>\n",
       "      <td>0.0</td>\n",
       "      <td>0.0</td>\n",
       "      <td>0.0</td>\n",
       "      <td>0.0</td>\n",
       "      <td>0.0</td>\n",
       "      <td>0.0</td>\n",
       "      <td>0.0</td>\n",
       "      <td>...</td>\n",
       "      <td>0.0</td>\n",
       "      <td>0.0</td>\n",
       "      <td>0.0</td>\n",
       "      <td>0.0</td>\n",
       "      <td>0.0</td>\n",
       "      <td>0.0</td>\n",
       "      <td>0.0</td>\n",
       "      <td>0.0</td>\n",
       "      <td>0.0</td>\n",
       "      <td>8</td>\n",
       "    </tr>\n",
       "  </tbody>\n",
       "</table>\n",
       "<p>3500 rows × 785 columns</p>\n",
       "</div>"
      ],
      "text/plain": [
       "        0    1    2    3    4    5    6    7    8    9  ...  775  776  777  \\\n",
       "0     0.0  0.0  0.0  0.0  0.0  0.0  0.0  0.0  0.0  0.0  ...  0.0  0.0  0.0   \n",
       "1     0.0  0.0  0.0  0.0  0.0  0.0  0.0  0.0  0.0  0.0  ...  0.0  0.0  0.0   \n",
       "2     0.0  0.0  0.0  0.0  0.0  0.0  0.0  0.0  0.0  0.0  ...  0.0  0.0  0.0   \n",
       "3     0.0  0.0  0.0  0.0  0.0  0.0  0.0  0.0  0.0  0.0  ...  0.0  0.0  0.0   \n",
       "4     0.0  0.0  0.0  0.0  0.0  0.0  0.0  0.0  0.0  0.0  ...  0.0  0.0  0.0   \n",
       "...   ...  ...  ...  ...  ...  ...  ...  ...  ...  ...  ...  ...  ...  ...   \n",
       "3495  0.0  0.0  0.0  0.0  0.0  0.0  0.0  0.0  0.0  0.0  ...  0.0  0.0  0.0   \n",
       "3496  0.0  0.0  0.0  0.0  0.0  0.0  0.0  0.0  0.0  0.0  ...  0.0  0.0  0.0   \n",
       "3497  0.0  0.0  0.0  0.0  0.0  0.0  0.0  0.0  0.0  0.0  ...  0.0  0.0  0.0   \n",
       "3498  0.0  0.0  0.0  0.0  0.0  0.0  0.0  0.0  0.0  0.0  ...  0.0  0.0  0.0   \n",
       "3499  0.0  0.0  0.0  0.0  0.0  0.0  0.0  0.0  0.0  0.0  ...  0.0  0.0  0.0   \n",
       "\n",
       "      778  779  780  781  782  783  target  \n",
       "0     0.0  0.0  0.0  0.0  0.0  0.0       5  \n",
       "1     0.0  0.0  0.0  0.0  0.0  0.0       0  \n",
       "2     0.0  0.0  0.0  0.0  0.0  0.0       4  \n",
       "3     0.0  0.0  0.0  0.0  0.0  0.0       1  \n",
       "4     0.0  0.0  0.0  0.0  0.0  0.0       9  \n",
       "...   ...  ...  ...  ...  ...  ...     ...  \n",
       "3495  0.0  0.0  0.0  0.0  0.0  0.0       8  \n",
       "3496  0.0  0.0  0.0  0.0  0.0  0.0       4  \n",
       "3497  0.0  0.0  0.0  0.0  0.0  0.0       8  \n",
       "3498  0.0  0.0  0.0  0.0  0.0  0.0       7  \n",
       "3499  0.0  0.0  0.0  0.0  0.0  0.0       8  \n",
       "\n",
       "[3500 rows x 785 columns]"
      ]
     },
     "execution_count": 3,
     "metadata": {},
     "output_type": "execute_result"
    }
   ],
   "source": [
    "data"
   ]
  },
  {
   "cell_type": "code",
   "execution_count": 26,
   "id": "3befb653-ea4f-440e-a3bb-7f833d6dceaf",
   "metadata": {},
   "outputs": [],
   "source": [
    "X=data.iloc[:,:-1] #data separado de la clase"
   ]
  },
  {
   "cell_type": "code",
   "execution_count": 30,
   "id": "fe0c5981-46d4-4f08-8271-89a3ae65a712",
   "metadata": {},
   "outputs": [
    {
     "data": {
      "text/plain": [
       "array([[0., 0., 0., ..., 0., 0., 0.],\n",
       "       [0., 0., 0., ..., 0., 0., 0.],\n",
       "       [0., 0., 0., ..., 0., 0., 0.],\n",
       "       ...,\n",
       "       [0., 0., 0., ..., 0., 0., 0.],\n",
       "       [0., 0., 0., ..., 0., 0., 0.],\n",
       "       [0., 0., 0., ..., 0., 0., 0.]])"
      ]
     },
     "execution_count": 30,
     "metadata": {},
     "output_type": "execute_result"
    }
   ],
   "source": [
    "X_norm=normalize(np.append(X,np.ones((X.shape[0],1),dtype=float).reshape(-1,1),axis=1)) #normalizacion extendida"
   ]
  },
  {
   "cell_type": "code",
   "execution_count": 63,
   "id": "af0e16b6-2afe-47d3-a060-ecfe21988155",
   "metadata": {},
   "outputs": [],
   "source": [
    "y=data.iloc[:,-1] #clase\n",
    "X_train=X_norm[:3000] #split en train 3000 muestras\n",
    "X_test=X_norm[3000:] #split en test 500 muestras\n",
    "y_train=to_categorical(y.loc[:2999]) #onehot de keras\n",
    "y_test=to_categorical(y.loc[3000:])"
   ]
  },
  {
   "cell_type": "code",
   "execution_count": 34,
   "id": "55083061-8fd5-463a-85ae-36c8648879a1",
   "metadata": {},
   "outputs": [],
   "source": [
    "class neurona(object):\n",
    "    def __init__(self, f=0, c=0, dim=0):\n",
    "        self.c = c\n",
    "        self.f = f\n",
    "        self.dim = dim\n",
    "        self.w = normalize(0.5 - np.random.rand(dim).reshape(1,-1))\n",
    "        self.label_winner = []\n",
    "            \n",
    "    def predict(self, inputs):\n",
    "        return inputs @ self.w.T\n",
    "    \n",
    "    def fit(self, input, alfa=1):\n",
    "        self.w = normalize(self.w + (alfa*input))"
   ]
  },
  {
   "cell_type": "markdown",
   "id": "ebcb5f1a-1c51-4e5d-ad6d-71495377eb6c",
   "metadata": {},
   "source": [
    "### Clase SOM"
   ]
  },
  {
   "cell_type": "code",
   "execution_count": 35,
   "id": "66831cc0-3e55-48cc-a179-9bf067d24356",
   "metadata": {},
   "outputs": [],
   "source": [
    "class som():\n",
    "    \n",
    "    def __init__(self, filas=1, columnas=1, dim=1):\n",
    "        self.lista = []\n",
    "        self.filas = filas\n",
    "        self.columnas = columnas\n",
    "        self.dim = dim\n",
    "        for fila in range(self.filas):\n",
    "            for columna in range(self.columnas):\n",
    "                self.lista.append(neurona(f=fila, c=columna, dim=dim))\n",
    "                \n",
    "    def fit(self, inputs, max_epochs=1, init_radious=0, init_alfa=1):\n",
    "        self.radious = init_radious\n",
    "        self.alfa = init_alfa\n",
    "        t = 0\n",
    "        P = inputs.shape[0]\n",
    "        for epoch in range(max_epochs):\n",
    "            for x in inputs:\n",
    "                self.alfa = init_alfa/(1.0 + float(t/P))\n",
    "                i_gana, y_gana = -1, float('-inf')\n",
    "                for i in range(self.filas*self.columnas):\n",
    "                    y_predict = self.lista[i].predict(x.reshape(1,-1))\n",
    "                    if y_predict > y_gana:\n",
    "                        y_gana = y_predict\n",
    "                        i_gana = i\n",
    "                f_gana = int(i_gana / self.columnas)\n",
    "                c_gana = i_gana % self.columnas\n",
    "                \n",
    "                # Conjunto de vecinas para un radious\n",
    "                for f in range(f_gana - self.radious, f_gana + self.radious+1):\n",
    "                    if f < 0:\n",
    "                        row = self.filas + f\n",
    "                    else:\n",
    "                        if f > self.filas-1:\n",
    "                            row = f % self.filas\n",
    "                        else:\n",
    "                            row = f\n",
    "\n",
    "                    for c in range(c_gana - self.radious, c_gana + self.radious+1):\n",
    "                        if c < 0:\n",
    "                            column = self.columnas + c \n",
    "                        else:\n",
    "                            if c > self.columnas-1:\n",
    "                                column = c % self.columnas\n",
    "                            else:\n",
    "                                column = c\n",
    "                        self.lista[(row*self.columnas) + column].fit(x.reshape(1,-1), alfa=self.alfa)\n",
    "                t += 1\n",
    "                if (t%1000) == 0:\n",
    "                    print(t, self.radious, \"  \", end='')\n",
    "            if self.radious > 0:\n",
    "                self.radious -= 1\n",
    "                            \n",
    "  \n",
    "    def predict(self, inputs):\n",
    "        output_list = []\n",
    "        for x in inputs:\n",
    "            for i in range(self.filas*self.columnas):\n",
    "                output_list.append(self.lista[i].predict(x.reshape(1,-1)))\n",
    "        return np.array(output_list).reshape(inputs.shape[0], -1)    \n",
    "            "
   ]
  },
  {
   "cell_type": "code",
   "execution_count": null,
   "id": "29ca7c03-8ef3-41a0-bbaf-31792b1c554b",
   "metadata": {},
   "outputs": [],
   "source": []
  },
  {
   "cell_type": "code",
   "execution_count": 36,
   "id": "80da37b9-fd04-4413-a0e4-3bd5093dd882",
   "metadata": {},
   "outputs": [],
   "source": [
    "mapa_autorganizado=som(10,10,X_train.shape[1]) #creamos el som 10x10"
   ]
  },
  {
   "cell_type": "code",
   "execution_count": 37,
   "id": "f955b355-59e9-403e-8e22-f62f5d117f06",
   "metadata": {},
   "outputs": [
    {
     "name": "stdout",
     "output_type": "stream",
     "text": [
      "1000 5   2000 5   3000 5   4000 4   5000 4   6000 4   7000 3   8000 3   9000 3   10000 2   11000 2   12000 2   13000 1   14000 1   15000 1   16000 0   17000 0   18000 0   19000 0   20000 0   21000 0   22000 0   23000 0   24000 0   25000 0   26000 0   27000 0   28000 0   29000 0   30000 0   31000 0   32000 0   33000 0   34000 0   35000 0   36000 0   37000 0   38000 0   39000 0   40000 0   41000 0   42000 0   43000 0   44000 0   45000 0   46000 0   47000 0   48000 0   49000 0   50000 0   51000 0   52000 0   53000 0   54000 0   55000 0   56000 0   57000 0   58000 0   59000 0   60000 0   "
     ]
    }
   ],
   "source": [
    "mapa_autorganizado.fit(X_train,20,4,20) #le entrenamos "
   ]
  },
  {
   "cell_type": "code",
   "execution_count": 38,
   "id": "5c00aa07-d2f7-4fcc-ad71-7a647aec416e",
   "metadata": {},
   "outputs": [],
   "source": [ "#correccion teo (fallo): No se hace un escalado de la salida del Som como entreda al CNN."
    "X_train_som=mapa_autorganizado.predict(X_train).reshape((3000,10,10,1)) #de la salida del som para entrenar la red y hacemos reshape \n",
    "X_test_som=mapa_autorganizado.predict(X_test).reshape((500,10,10,1)) #de la salida del som para entrenar la red y hacemos reshape "
   ]
  },
  {
   "cell_type": "code",
   "execution_count": 39,
   "id": "c6be68f8-5460-413b-8678-99e4c1a357ac",
   "metadata": {},
   "outputs": [
    {
     "data": {
      "text/plain": [
       "((3000, 10, 10, 1), (500, 10, 10, 1))"
      ]
     },
     "execution_count": 39,
     "metadata": {},
     "output_type": "execute_result"
    }
   ],
   "source": [
    "X_train_som.shape,X_test_som.shape"
   ]
  },
  {
   "cell_type": "code",
   "execution_count": 42,
   "id": "617a7298-244b-4542-b91f-fd7a1aecc54d",
   "metadata": {},
   "outputs": [],
   "source": [
    "from keras.layers import Conv2D,MaxPooling2D,Dense,Flatten\n"
   ]
  },
  {
   "cell_type": "code",
   "execution_count": 44,
   "id": "bd88a3be-bf80-4a48-9318-e56d738a3f35",
   "metadata": {},
   "outputs": [
    {
     "ename": "ModuleNotFoundError",
     "evalue": "No module named 'tf'",
     "output_type": "error",
     "traceback": [
      "\u001b[0;31m---------------------------------------------------------------------------\u001b[0m",
      "\u001b[0;31mModuleNotFoundError\u001b[0m                       Traceback (most recent call last)",
      "\u001b[0;32m/tmp/ipykernel_5487/176919207.py\u001b[0m in \u001b[0;36m<module>\u001b[0;34m\u001b[0m\n\u001b[0;32m----> 1\u001b[0;31m \u001b[0;32mfrom\u001b[0m \u001b[0mtf\u001b[0m\u001b[0;34m.\u001b[0m\u001b[0mkeras\u001b[0m \u001b[0;32mimport\u001b[0m \u001b[0mSequential\u001b[0m\u001b[0;34m\u001b[0m\u001b[0;34m\u001b[0m\u001b[0m\n\u001b[0m",
      "\u001b[0;31mModuleNotFoundError\u001b[0m: No module named 'tf'"
     ]
    }
   ],
   "source": [
    "from tf.keras import Sequential"
   ]
  },
  {
   "cell_type": "code",
   "execution_count": 55,
   "id": "01f92374-9ef8-4ad0-be54-628c008556fe",
   "metadata": {},
   "outputs": [],
   "source": [
    "model=tf.keras.Sequential()\n",
    "model.add(Conv2D(32,(3,3),activation='relu',input_shape=((10,10,1))))\n",
    "model.add(MaxPooling2D((2,2)))\n",
    "model.add(Conv2D(64,(3,3),activation='relu',input_shape=((10,10,1))))\n",
    "model.add(MaxPooling2D((2,2)))\n",
    "model.add(Flatten())\n",
    "model.add(Dense(32,activation='relu'))\n",
    "model.add(Dense(10,activation='softmax'))"
   ]
  },
  {
   "cell_type": "code",
   "execution_count": 56,
   "id": "047e1e10-73d9-4cf9-8639-0c2d6a64aaba",
   "metadata": {},
   "outputs": [
    {
     "name": "stdout",
     "output_type": "stream",
     "text": [
      "Model: \"sequential_6\"\n",
      "_________________________________________________________________\n",
      " Layer (type)                Output Shape              Param #   \n",
      "=================================================================\n",
      " conv2d_5 (Conv2D)           (None, 8, 8, 32)          320       \n",
      "                                                                 \n",
      " max_pooling2d_3 (MaxPooling  (None, 4, 4, 32)         0         \n",
      " 2D)                                                             \n",
      "                                                                 \n",
      " conv2d_6 (Conv2D)           (None, 2, 2, 64)          18496     \n",
      "                                                                 \n",
      " max_pooling2d_4 (MaxPooling  (None, 1, 1, 64)         0         \n",
      " 2D)                                                             \n",
      "                                                                 \n",
      " flatten_1 (Flatten)         (None, 64)                0         \n",
      "                                                                 \n",
      " dense (Dense)               (None, 32)                2080      \n",
      "                                                                 \n",
      " dense_1 (Dense)             (None, 10)                330       \n",
      "                                                                 \n",
      "=================================================================\n",
      "Total params: 21,226\n",
      "Trainable params: 21,226\n",
      "Non-trainable params: 0\n",
      "_________________________________________________________________\n"
     ]
    }
   ],
   "source": [
    "model.summary() #red convolucional "
   ]
  },
  {
   "cell_type": "code",
   "execution_count": 57,
   "id": "173efd7f-b833-43cb-aaab-46f5f998b261",
   "metadata": {},
   "outputs": [],
   "source": [
    "model.compile(optimizer='rmsprop',loss='categorical_crossentropy',metrics=['accuracy']) #compilamos "
   ]
  },
  {
   "cell_type": "code",
   "execution_count": 69,
   "id": "11f55692-7aa1-4605-ad76-bf4f2f5a6209",
   "metadata": {},
   "outputs": [
    {
     "name": "stdout",
     "output_type": "stream",
     "text": [
      "Epoch 1/40\n",
      "100/100 [==============================] - 1s 6ms/step - loss: 0.0293 - accuracy: 0.8120 - val_loss: 0.0307 - val_accuracy: 0.8000\n",
      "Epoch 2/40\n",
      "100/100 [==============================] - 1s 6ms/step - loss: 0.0279 - accuracy: 0.8147 - val_loss: 0.0269 - val_accuracy: 0.7980\n",
      "Epoch 3/40\n",
      "100/100 [==============================] - 1s 6ms/step - loss: 0.0262 - accuracy: 0.8263 - val_loss: 0.0247 - val_accuracy: 0.8560\n",
      "Epoch 4/40\n",
      "100/100 [==============================] - 1s 5ms/step - loss: 0.0250 - accuracy: 0.8330 - val_loss: 0.0242 - val_accuracy: 0.8700\n",
      "Epoch 5/40\n",
      "100/100 [==============================] - 1s 6ms/step - loss: 0.0239 - accuracy: 0.8460 - val_loss: 0.0245 - val_accuracy: 0.8460\n",
      "Epoch 6/40\n",
      "100/100 [==============================] - 1s 6ms/step - loss: 0.0227 - accuracy: 0.8530 - val_loss: 0.0216 - val_accuracy: 0.8680\n",
      "Epoch 7/40\n",
      "100/100 [==============================] - 1s 5ms/step - loss: 0.0217 - accuracy: 0.8587 - val_loss: 0.0226 - val_accuracy: 0.8420\n",
      "Epoch 8/40\n",
      "100/100 [==============================] - 1s 6ms/step - loss: 0.0209 - accuracy: 0.8627 - val_loss: 0.0197 - val_accuracy: 0.8740\n",
      "Epoch 9/40\n",
      "100/100 [==============================] - 1s 6ms/step - loss: 0.0200 - accuracy: 0.8693 - val_loss: 0.0203 - val_accuracy: 0.8620\n",
      "Epoch 10/40\n",
      "100/100 [==============================] - 1s 7ms/step - loss: 0.0192 - accuracy: 0.8767 - val_loss: 0.0205 - val_accuracy: 0.8660\n",
      "Epoch 11/40\n",
      "100/100 [==============================] - 0s 5ms/step - loss: 0.0184 - accuracy: 0.8863 - val_loss: 0.0194 - val_accuracy: 0.8740\n",
      "Epoch 12/40\n",
      "100/100 [==============================] - 1s 5ms/step - loss: 0.0179 - accuracy: 0.8877 - val_loss: 0.0180 - val_accuracy: 0.8940\n",
      "Epoch 13/40\n",
      "100/100 [==============================] - 1s 6ms/step - loss: 0.0171 - accuracy: 0.8900 - val_loss: 0.0162 - val_accuracy: 0.9060\n",
      "Epoch 14/40\n",
      "100/100 [==============================] - 1s 6ms/step - loss: 0.0165 - accuracy: 0.8967 - val_loss: 0.0165 - val_accuracy: 0.9000\n",
      "Epoch 15/40\n",
      "100/100 [==============================] - 1s 6ms/step - loss: 0.0158 - accuracy: 0.8997 - val_loss: 0.0173 - val_accuracy: 0.8960\n",
      "Epoch 16/40\n",
      "100/100 [==============================] - 1s 5ms/step - loss: 0.0152 - accuracy: 0.9080 - val_loss: 0.0162 - val_accuracy: 0.9000\n",
      "Epoch 17/40\n",
      "100/100 [==============================] - 1s 6ms/step - loss: 0.0148 - accuracy: 0.9080 - val_loss: 0.0163 - val_accuracy: 0.9020\n",
      "Epoch 18/40\n",
      "100/100 [==============================] - 1s 6ms/step - loss: 0.0142 - accuracy: 0.9090 - val_loss: 0.0144 - val_accuracy: 0.9180\n",
      "Epoch 19/40\n",
      "100/100 [==============================] - 1s 7ms/step - loss: 0.0136 - accuracy: 0.9133 - val_loss: 0.0139 - val_accuracy: 0.9300\n",
      "Epoch 20/40\n",
      "100/100 [==============================] - 1s 6ms/step - loss: 0.0131 - accuracy: 0.9230 - val_loss: 0.0165 - val_accuracy: 0.8980\n",
      "Epoch 21/40\n",
      "100/100 [==============================] - 1s 6ms/step - loss: 0.0128 - accuracy: 0.9173 - val_loss: 0.0136 - val_accuracy: 0.9200\n",
      "Epoch 22/40\n",
      "100/100 [==============================] - 1s 7ms/step - loss: 0.0122 - accuracy: 0.9200 - val_loss: 0.0130 - val_accuracy: 0.9180\n",
      "Epoch 23/40\n",
      "100/100 [==============================] - 1s 6ms/step - loss: 0.0117 - accuracy: 0.9270 - val_loss: 0.0136 - val_accuracy: 0.9240\n",
      "Epoch 24/40\n",
      "100/100 [==============================] - 1s 6ms/step - loss: 0.0116 - accuracy: 0.9263 - val_loss: 0.0133 - val_accuracy: 0.9200\n",
      "Epoch 25/40\n",
      "100/100 [==============================] - 1s 5ms/step - loss: 0.0110 - accuracy: 0.9323 - val_loss: 0.0131 - val_accuracy: 0.9160\n",
      "Epoch 26/40\n",
      "100/100 [==============================] - 1s 6ms/step - loss: 0.0109 - accuracy: 0.9317 - val_loss: 0.0127 - val_accuracy: 0.9260\n",
      "Epoch 27/40\n",
      "100/100 [==============================] - 1s 6ms/step - loss: 0.0105 - accuracy: 0.9343 - val_loss: 0.0123 - val_accuracy: 0.9300\n",
      "Epoch 28/40\n",
      "100/100 [==============================] - 1s 5ms/step - loss: 0.0102 - accuracy: 0.9323 - val_loss: 0.0117 - val_accuracy: 0.9280\n",
      "Epoch 29/40\n",
      "100/100 [==============================] - 1s 5ms/step - loss: 0.0099 - accuracy: 0.9423 - val_loss: 0.0127 - val_accuracy: 0.9160\n",
      "Epoch 30/40\n",
      "100/100 [==============================] - 1s 6ms/step - loss: 0.0094 - accuracy: 0.9397 - val_loss: 0.0113 - val_accuracy: 0.9280\n",
      "Epoch 31/40\n",
      "100/100 [==============================] - 1s 5ms/step - loss: 0.0091 - accuracy: 0.9457 - val_loss: 0.0122 - val_accuracy: 0.9200\n",
      "Epoch 32/40\n",
      "100/100 [==============================] - 0s 5ms/step - loss: 0.0089 - accuracy: 0.9457 - val_loss: 0.0124 - val_accuracy: 0.9260\n",
      "Epoch 33/40\n",
      "100/100 [==============================] - 1s 6ms/step - loss: 0.0085 - accuracy: 0.9507 - val_loss: 0.0108 - val_accuracy: 0.9280\n",
      "Epoch 34/40\n",
      "100/100 [==============================] - 1s 7ms/step - loss: 0.0082 - accuracy: 0.9520 - val_loss: 0.0119 - val_accuracy: 0.9200\n",
      "Epoch 35/40\n",
      "100/100 [==============================] - 1s 6ms/step - loss: 0.0080 - accuracy: 0.9530 - val_loss: 0.0127 - val_accuracy: 0.9160\n",
      "Epoch 36/40\n",
      "100/100 [==============================] - 1s 5ms/step - loss: 0.0077 - accuracy: 0.9540 - val_loss: 0.0130 - val_accuracy: 0.9140\n",
      "Epoch 37/40\n",
      "100/100 [==============================] - 1s 5ms/step - loss: 0.0076 - accuracy: 0.9567 - val_loss: 0.0108 - val_accuracy: 0.9300\n",
      "Epoch 38/40\n",
      "100/100 [==============================] - 1s 6ms/step - loss: 0.0073 - accuracy: 0.9590 - val_loss: 0.0117 - val_accuracy: 0.9240\n",
      "Epoch 39/40\n",
      "100/100 [==============================] - 1s 5ms/step - loss: 0.0072 - accuracy: 0.9577 - val_loss: 0.0099 - val_accuracy: 0.9400\n",
      "Epoch 40/40\n",
      "100/100 [==============================] - 1s 5ms/step - loss: 0.0069 - accuracy: 0.9593 - val_loss: 0.0106 - val_accuracy: 0.9340\n"
     ]
    }
   ],
   "source": [
    "history=model.fit(X_train_som,y_train,batch_size=30,epochs=40,validation_data=(X_test_som,y_test),verbose=True)"
   ]
  },
  {
   "cell_type": "code",
   "execution_count": 72,
   "id": "493e26fd-9344-4f6c-ad86-33d79ba4a1b4",
   "metadata": {},
   "outputs": [],
   "source": [
    "import matplotlib.pyplot as plt"
   ]
  },
  {
   "cell_type": "code",
   "execution_count": 77,
   "id": "cfd5de53-0729-4859-b09a-600eb5525663",
   "metadata": {},
   "outputs": [
    {
     "data": {
      "text/plain": [
       "dict_keys(['loss', 'accuracy', 'val_loss', 'val_accuracy'])"
      ]
     },
     "execution_count": 77,
     "metadata": {},
     "output_type": "execute_result"
    }
   ],
   "source": [
    "history.history.keys()"
   ]
  },
  {
   "cell_type": "code",
   "execution_count": 76,
   "id": "68111f40-99e5-463c-af20-ae986298a5cb",
   "metadata": {},
   "outputs": [
    {
     "data": {
      "image/png": "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",
      "text/plain": [
       "<Figure size 1000x400 with 1 Axes>"
      ]
     },
     "metadata": {},
     "output_type": "display_data"
    }
   ],
   "source": [
    "plt.figure(figsize=(10,4))\n",
    "plt.plot(history.epoch,history.history['val_accuracy'],label='validation')\n",
    "plt.plot(history.epoch,history.history['accuracy'],label='training')\n",
    "plt.legend()\n",
    "plt.grid()\n",
    "plt.show()"
   ]
  },
  {
   "cell_type": "code",
   "execution_count": null,
   "id": "0f4c7927-5685-4ce1-9513-508605419f49",
   "metadata": {},
   "outputs": [],
   "source": []
  },
  {
   "cell_type": "code",
   "execution_count": null,
   "id": "90101615-18f8-42db-9e5b-1548acca9572",
   "metadata": {},
   "outputs": [],
   "source": []
  }
 ],
 "metadata": {
  "kernelspec": {
   "display_name": "Python 3",
   "language": "python",
   "name": "python3"
  },
  "language_info": {
   "codemirror_mode": {
    "name": "ipython",
    "version": 3
   },
   "file_extension": ".py",
   "mimetype": "text/x-python",
   "name": "python",
   "nbconvert_exporter": "python",
   "pygments_lexer": "ipython3",
   "version": "3.10.9 (tags/v3.10.9:1dd9be6, Dec  6 2022, 20:01:21) [MSC v.1934 64 bit (AMD64)]"
  },
  "vscode": {
   "interpreter": {
    "hash": "0bd566559a8880e7272aad6319f1a0014c5dfadaf9b377e9b51e0ae3382edc81"
   }
  }
 },
 "nbformat": 4,
 "nbformat_minor": 5
}
