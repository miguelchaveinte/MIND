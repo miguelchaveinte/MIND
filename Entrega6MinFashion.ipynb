{
  "nbformat": 4,
  "nbformat_minor": 0,
  "metadata": {
    "colab": {
      "provenance": []
    },
    "kernelspec": {
      "name": "python3",
      "display_name": "Python 3"
    },
    "language_info": {
      "name": "python"
    }
  },
  "cells": [
    {
      "cell_type": "markdown",
      "source": [
        "MIGUEL CHAVEINTE GARCÍA\n"
      ],
      "metadata": {
        "id": "dsJEUsjoWRFm"
      }
    },
    {
      "cell_type": "code",
      "execution_count": 3,
      "metadata": {
        "id": "tGSV4YazR6_s"
      },
      "outputs": [],
      "source": [
        "import tensorflow as tf\n",
        "from keras.datasets import fashion_mnist\n",
        "from keras.utils import to_categorical\n",
        "from keras import models\n",
        "from keras import layers"
      ]
    },
    {
      "cell_type": "code",
      "source": [
        "import numpy as np\n",
        "import pandas as pd"
      ],
      "metadata": {
        "id": "lpBIbNSwR_-i"
      },
      "execution_count": 4,
      "outputs": []
    },
    {
      "cell_type": "markdown",
      "source": [
        "RED CONVOLUTIVA"
      ],
      "metadata": {
        "id": "C1bfo5E4fEyU"
      }
    },
    {
      "cell_type": "code",
      "source": [
        "model = models.Sequential()\n",
        "model.add(layers.Conv2D(32, (3, 3), activation='relu', input_shape=(28, 28, 1)))\n",
        "model.add(layers.MaxPooling2D((2, 2)))\n",
        "model.add(layers.Conv2D(64, (3, 3), activation='relu'))\n",
        "model.add(layers.MaxPooling2D((2, 2)))\n",
        "model.add(layers.Conv2D(64, (3, 3), activation='relu'))\n",
        "model.add(layers.MaxPooling2D((2, 2)))\n",
        "#Entrada 28x28\n",
        "#Salida 26x26"
      ],
      "metadata": {
        "id": "WMaemIxmfGBg"
      },
      "execution_count": 2,
      "outputs": []
    },
    {
      "cell_type": "code",
      "source": [
        "model.summary()"
      ],
      "metadata": {
        "colab": {
          "base_uri": "https://localhost:8080/"
        },
        "id": "OWVyHkaifHfU",
        "outputId": "e302a63f-8e87-4ec5-d4e0-91cb1db109a3"
      },
      "execution_count": 3,
      "outputs": [
        {
          "output_type": "stream",
          "name": "stdout",
          "text": [
            "Model: \"sequential\"\n",
            "_________________________________________________________________\n",
            " Layer (type)                Output Shape              Param #   \n",
            "=================================================================\n",
            " conv2d (Conv2D)             (None, 26, 26, 32)        320       \n",
            "                                                                 \n",
            " max_pooling2d (MaxPooling2D  (None, 13, 13, 32)       0         \n",
            " )                                                               \n",
            "                                                                 \n",
            " conv2d_1 (Conv2D)           (None, 11, 11, 64)        18496     \n",
            "                                                                 \n",
            " max_pooling2d_1 (MaxPooling  (None, 5, 5, 64)         0         \n",
            " 2D)                                                             \n",
            "                                                                 \n",
            " conv2d_2 (Conv2D)           (None, 3, 3, 64)          36928     \n",
            "                                                                 \n",
            " max_pooling2d_2 (MaxPooling  (None, 1, 1, 64)         0         \n",
            " 2D)                                                             \n",
            "                                                                 \n",
            "=================================================================\n",
            "Total params: 55,744\n",
            "Trainable params: 55,744\n",
            "Non-trainable params: 0\n",
            "_________________________________________________________________\n"
          ]
        }
      ]
    },
    {
      "cell_type": "code",
      "source": [
        "model.add(layers.Flatten())\n",
        "model.add(layers.Dense(64, activation='relu'))\n",
        "model.add(layers.Dense(10, activation='softmax'))"
      ],
      "metadata": {
        "id": "Hvojh4Z2fIz1"
      },
      "execution_count": 4,
      "outputs": []
    },
    {
      "cell_type": "code",
      "source": [
        "model.summary()"
      ],
      "metadata": {
        "colab": {
          "base_uri": "https://localhost:8080/"
        },
        "id": "LeJJKv9XfLGW",
        "outputId": "212ddaaa-176a-4fc6-f4c7-1586298b2a24"
      },
      "execution_count": 5,
      "outputs": [
        {
          "output_type": "stream",
          "name": "stdout",
          "text": [
            "Model: \"sequential\"\n",
            "_________________________________________________________________\n",
            " Layer (type)                Output Shape              Param #   \n",
            "=================================================================\n",
            " conv2d (Conv2D)             (None, 26, 26, 32)        320       \n",
            "                                                                 \n",
            " max_pooling2d (MaxPooling2D  (None, 13, 13, 32)       0         \n",
            " )                                                               \n",
            "                                                                 \n",
            " conv2d_1 (Conv2D)           (None, 11, 11, 64)        18496     \n",
            "                                                                 \n",
            " max_pooling2d_1 (MaxPooling  (None, 5, 5, 64)         0         \n",
            " 2D)                                                             \n",
            "                                                                 \n",
            " conv2d_2 (Conv2D)           (None, 3, 3, 64)          36928     \n",
            "                                                                 \n",
            " max_pooling2d_2 (MaxPooling  (None, 1, 1, 64)         0         \n",
            " 2D)                                                             \n",
            "                                                                 \n",
            " flatten (Flatten)           (None, 64)                0         \n",
            "                                                                 \n",
            " dense (Dense)               (None, 64)                4160      \n",
            "                                                                 \n",
            " dense_1 (Dense)             (None, 10)                650       \n",
            "                                                                 \n",
            "=================================================================\n",
            "Total params: 60,554\n",
            "Trainable params: 60,554\n",
            "Non-trainable params: 0\n",
            "_________________________________________________________________\n"
          ]
        }
      ]
    },
    {
      "cell_type": "markdown",
      "source": [
        "DATOS"
      ],
      "metadata": {
        "id": "fakeAcOtfO75"
      }
    },
    {
      "cell_type": "code",
      "source": [
        "(train_images, train_labels), (test_images, test_labels) = fashion_mnist.load_data()\n",
        "train_images = train_images.reshape((60000, 28, 28, 1))\n",
        "train_images = train_images.astype('float32') / 255\n",
        "test_images = test_images.reshape((10000, 28, 28, 1))\n",
        "test_images = test_images.astype('float32') / 255\n",
        "train_labels = to_categorical(train_labels)\n",
        "test_labels = to_categorical(test_labels)"
      ],
      "metadata": {
        "id": "sNbOmDaAfMa0"
      },
      "execution_count": 7,
      "outputs": []
    },
    {
      "cell_type": "markdown",
      "source": [
        "MAIN PROGRAM"
      ],
      "metadata": {
        "id": "lW7TscW3fQqC"
      }
    },
    {
      "cell_type": "code",
      "source": [
        "model.compile(optimizer='rmsprop', loss='categorical_crossentropy', metrics=['accuracy'])\n",
        "history = model.fit(train_images, train_labels, batch_size=64, epochs=20, validation_data=(test_images,test_labels))"
      ],
      "metadata": {
        "colab": {
          "base_uri": "https://localhost:8080/"
        },
        "id": "B5GkIzCAfSBc",
        "outputId": "3cc5d6cb-ee84-4464-9c45-bffac4699cc6"
      },
      "execution_count": 7,
      "outputs": [
        {
          "output_type": "stream",
          "name": "stdout",
          "text": [
            "Epoch 1/20\n",
            "938/938 [==============================] - 75s 78ms/step - loss: 0.6520 - accuracy: 0.7592 - val_loss: 0.5376 - val_accuracy: 0.8079\n",
            "Epoch 2/20\n",
            "938/938 [==============================] - 64s 68ms/step - loss: 0.4349 - accuracy: 0.8389 - val_loss: 0.4650 - val_accuracy: 0.8314\n",
            "Epoch 3/20\n",
            "938/938 [==============================] - 62s 66ms/step - loss: 0.3689 - accuracy: 0.8654 - val_loss: 0.4045 - val_accuracy: 0.8528\n",
            "Epoch 4/20\n",
            "938/938 [==============================] - 62s 67ms/step - loss: 0.3308 - accuracy: 0.8782 - val_loss: 0.3900 - val_accuracy: 0.8610\n",
            "Epoch 5/20\n",
            "938/938 [==============================] - 65s 70ms/step - loss: 0.3003 - accuracy: 0.8882 - val_loss: 0.3598 - val_accuracy: 0.8676\n",
            "Epoch 6/20\n",
            "938/938 [==============================] - 63s 67ms/step - loss: 0.2784 - accuracy: 0.8970 - val_loss: 0.3222 - val_accuracy: 0.8845\n",
            "Epoch 7/20\n",
            "938/938 [==============================] - 62s 66ms/step - loss: 0.2594 - accuracy: 0.9049 - val_loss: 0.3222 - val_accuracy: 0.8851\n",
            "Epoch 8/20\n",
            "938/938 [==============================] - 65s 69ms/step - loss: 0.2427 - accuracy: 0.9111 - val_loss: 0.3642 - val_accuracy: 0.8772\n",
            "Epoch 9/20\n",
            "938/938 [==============================] - 62s 66ms/step - loss: 0.2281 - accuracy: 0.9160 - val_loss: 0.3245 - val_accuracy: 0.8888\n",
            "Epoch 10/20\n",
            "938/938 [==============================] - 62s 66ms/step - loss: 0.2149 - accuracy: 0.9216 - val_loss: 0.3404 - val_accuracy: 0.8870\n",
            "Epoch 11/20\n",
            "938/938 [==============================] - 64s 68ms/step - loss: 0.2030 - accuracy: 0.9244 - val_loss: 0.3357 - val_accuracy: 0.8877\n",
            "Epoch 12/20\n",
            "938/938 [==============================] - 63s 67ms/step - loss: 0.1937 - accuracy: 0.9282 - val_loss: 0.3527 - val_accuracy: 0.8796\n",
            "Epoch 13/20\n",
            "938/938 [==============================] - 62s 66ms/step - loss: 0.1819 - accuracy: 0.9327 - val_loss: 0.3437 - val_accuracy: 0.8917\n",
            "Epoch 14/20\n",
            "938/938 [==============================] - 62s 66ms/step - loss: 0.1743 - accuracy: 0.9353 - val_loss: 0.3545 - val_accuracy: 0.8889\n",
            "Epoch 15/20\n",
            "938/938 [==============================] - 65s 69ms/step - loss: 0.1662 - accuracy: 0.9390 - val_loss: 0.3518 - val_accuracy: 0.8906\n",
            "Epoch 16/20\n",
            "938/938 [==============================] - 62s 66ms/step - loss: 0.1582 - accuracy: 0.9410 - val_loss: 0.3590 - val_accuracy: 0.8961\n",
            "Epoch 17/20\n",
            "938/938 [==============================] - 62s 66ms/step - loss: 0.1506 - accuracy: 0.9457 - val_loss: 0.3979 - val_accuracy: 0.8878\n",
            "Epoch 18/20\n",
            "938/938 [==============================] - 64s 69ms/step - loss: 0.1441 - accuracy: 0.9461 - val_loss: 0.3695 - val_accuracy: 0.8922\n",
            "Epoch 19/20\n",
            "938/938 [==============================] - 62s 66ms/step - loss: 0.1384 - accuracy: 0.9483 - val_loss: 0.4469 - val_accuracy: 0.8815\n",
            "Epoch 20/20\n",
            "938/938 [==============================] - 62s 66ms/step - loss: 0.1317 - accuracy: 0.9507 - val_loss: 0.4529 - val_accuracy: 0.8846\n"
          ]
        }
      ]
    },
    {
      "cell_type": "code",
      "source": [],
      "metadata": {
        "id": "oK-aAuZJfT68"
      },
      "execution_count": 7,
      "outputs": []
    },
    {
      "cell_type": "markdown",
      "source": [
        "REPRESENTACIÓN GRÁFICA"
      ],
      "metadata": {
        "id": "JW2sNgEXfaEY"
      }
    },
    {
      "cell_type": "code",
      "source": [
        "import matplotlib.pyplot as plt"
      ],
      "metadata": {
        "id": "iO5Ih569fd_U"
      },
      "execution_count": 8,
      "outputs": []
    },
    {
      "cell_type": "code",
      "source": [
        "plt.plot(history.epoch, history.history['val_accuracy'], label='validation')\n",
        "plt.plot(history.epoch, history.history['accuracy'], label='training')\n",
        "plt.legend()\n",
        "plt.title('Success Rate Evolution')\n",
        "plt.xlabel('Epoch')\n",
        "plt.grid()\n",
        "plt.xticks(history.epoch)\n",
        "plt.show()"
      ],
      "metadata": {
        "colab": {
          "base_uri": "https://localhost:8080/",
          "height": 295
        },
        "id": "PATfRq4yffJN",
        "outputId": "65d1b616-1ad4-4a51-fe35-92033a905e8d"
      },
      "execution_count": 9,
      "outputs": [
        {
          "output_type": "display_data",
          "data": {
            "text/plain": [
              "<Figure size 432x288 with 1 Axes>"
            ],
            "image/png": "[encoded data removed]"
          },
          "metadata": {
            "needs_background": "light"
          }
        }
      ]
    },
    {
      "cell_type": "code",
      "source": [
        "# Graficar la pérdida del entrenamiento y la validación\n",
        "plt.plot(history.history['loss'])\n",
        "plt.plot(history.history['val_loss'])\n",
        "plt.title('Pérdida del modelo en función del número de épocas')\n",
        "plt.ylabel('Loss')\n",
        "plt.xlabel('Epoch')\n",
        "plt.legend(['Training','Validation'], loc='upper left')\n",
        "plt.show()"
      ],
      "metadata": {
        "colab": {
          "base_uri": "https://localhost:8080/",
          "height": 295
        },
        "id": "PtASDuZwfgNz",
        "outputId": "2dab9988-edb6-4955-d52f-ea84eb6104b5"
      },
      "execution_count": 10,
      "outputs": [
        {
          "output_type": "display_data",
          "data": {
            "text/plain": [
              "<Figure size 432x288 with 1 Axes>"
            ],
            "image/png": "[encoded data removed]"
          },
          "metadata": {
            "needs_background": "light"
          }
        }
      ]
    },
    {
      "cell_type": "code",
      "source": [],
      "metadata": {
        "id": "8BIG6CAY5MsV"
      },
      "execution_count": null,
      "outputs": []
    },
    {
      "cell_type": "code",
      "source": [],
      "metadata": {
        "id": "NIC_WMbi67su"
      },
      "execution_count": null,
      "outputs": []
    },
    {
      "cell_type": "markdown",
      "source": [
        "Evaluating the model"
      ],
      "metadata": {
        "id": "ddLLsVhJ9JvV"
      }
    },
    {
      "cell_type": "code",
      "source": [
        "loss, accuracy = model.evaluate(test_images, test_labels, verbose=0)\n",
        "print('Test loss:', loss)\n",
        "print('Test accuracy:', accuracy)\n",
        "\n"
      ],
      "metadata": {
        "colab": {
          "base_uri": "https://localhost:8080/"
        },
        "id": "isaXPLKJ7B_8",
        "outputId": "91aca9cc-56c4-424e-f885-5858fb0de527"
      },
      "execution_count": 32,
      "outputs": [
        {
          "output_type": "stream",
          "name": "stdout",
          "text": [
            "Test loss: 0.4529157280921936\n",
            "Test accuracy: 0.8845999836921692\n"
          ]
        }
      ]
    },
    {
      "cell_type": "code",
      "source": [],
      "metadata": {
        "id": "uCmgxnbd9RDp"
      },
      "execution_count": null,
      "outputs": []
    }
  ]
}